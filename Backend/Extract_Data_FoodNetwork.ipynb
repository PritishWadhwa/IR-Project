{
  "cells": [
    {
      "cell_type": "code",
      "execution_count": null,
      "metadata": {
        "colab": {
          "base_uri": "https://localhost:8080/"
        },
        "id": "iijYm479x9RY",
        "outputId": "3f01ad6e-56bc-4e5d-92a8-6b007802bab5"
      },
      "outputs": [
        {
          "name": "stdout",
          "output_type": "stream",
          "text": [
            "Looking in indexes: https://pypi.org/simple, https://us-python.pkg.dev/colab-wheels/public/simple/\n",
            "Requirement already satisfied: requests in /usr/local/lib/python3.8/dist-packages (2.25.1)\n",
            "Requirement already satisfied: urllib3<1.27,>=1.21.1 in /usr/local/lib/python3.8/dist-packages (from requests) (1.26.14)\n",
            "Requirement already satisfied: certifi>=2017.4.17 in /usr/local/lib/python3.8/dist-packages (from requests) (2022.12.7)\n",
            "Requirement already satisfied: chardet<5,>=3.0.2 in /usr/local/lib/python3.8/dist-packages (from requests) (4.0.0)\n",
            "Requirement already satisfied: idna<3,>=2.5 in /usr/local/lib/python3.8/dist-packages (from requests) (2.10)\n",
            "Looking in indexes: https://pypi.org/simple, https://us-python.pkg.dev/colab-wheels/public/simple/\n",
            "Requirement already satisfied: bs4 in /usr/local/lib/python3.8/dist-packages (0.0.1)\n",
            "Requirement already satisfied: beautifulsoup4 in /usr/local/lib/python3.8/dist-packages (from bs4) (4.6.3)\n"
          ]
        }
      ],
      "source": [
        "!pip install requests\n",
        "!pip install bs4"
      ]
    },
    {
      "cell_type": "code",
      "execution_count": null,
      "metadata": {
        "id": "M3fPEqj4yX5P"
      },
      "outputs": [],
      "source": [
        "import requests\n",
        "from bs4 import BeautifulSoup\n",
        "import csv\n",
        "import pandas as pd\n",
        "import os\n",
        "import json\n",
        "from tqdm import tqdm"
      ]
    },
    {
      "cell_type": "markdown",
      "metadata": {
        "id": "tye0iSJcUOFX"
      },
      "source": [
        "#Food Network. \n"
      ]
    },
    {
      "cell_type": "code",
      "execution_count": null,
      "metadata": {
        "colab": {
          "base_uri": "https://localhost:8080/"
        },
        "id": "CFPA6xzBUQCW",
        "outputId": "ffa9b32f-e9fe-4c99-d9d9-28731a9c46a6"
      },
      "outputs": [
        {
          "name": "stdout",
          "output_type": "stream",
          "text": [
            "https://www.foodnetwork.com/recipes/recipes-a-z/123\n",
            "3\n",
            "https://www.foodnetwork.com/recipes/recipes-a-z/a\n",
            "18\n",
            "https://www.foodnetwork.com/recipes/recipes-a-z/b\n",
            "49\n",
            "https://www.foodnetwork.com/recipes/recipes-a-z/c\n",
            "82\n",
            "https://www.foodnetwork.com/recipes/recipes-a-z/d\n",
            "11\n",
            "https://www.foodnetwork.com/recipes/recipes-a-z/e\n",
            "10\n",
            "https://www.foodnetwork.com/recipes/recipes-a-z/f\n",
            "22\n",
            "https://www.foodnetwork.com/recipes/recipes-a-z/g\n",
            "37\n",
            "https://www.foodnetwork.com/recipes/recipes-a-z/h\n",
            "19\n",
            "https://www.foodnetwork.com/recipes/recipes-a-z/i\n",
            "8\n",
            "https://www.foodnetwork.com/recipes/recipes-a-z/j\n",
            "6\n",
            "https://www.foodnetwork.com/recipes/recipes-a-z/k\n",
            "7\n",
            "https://www.foodnetwork.com/recipes/recipes-a-z/l\n",
            "17\n",
            "https://www.foodnetwork.com/recipes/recipes-a-z/m\n",
            "31\n",
            "https://www.foodnetwork.com/recipes/recipes-a-z/n\n",
            "7\n",
            "https://www.foodnetwork.com/recipes/recipes-a-z/o\n",
            "11\n",
            "https://www.foodnetwork.com/recipes/recipes-a-z/p\n",
            "46\n",
            "https://www.foodnetwork.com/recipes/recipes-a-z/q\n",
            "4\n",
            "https://www.foodnetwork.com/recipes/recipes-a-z/r\n",
            "28\n",
            "https://www.foodnetwork.com/recipes/recipes-a-z/s\n",
            "78\n",
            "https://www.foodnetwork.com/recipes/recipes-a-z/t\n",
            "29\n",
            "https://www.foodnetwork.com/recipes/recipes-a-z/u\n",
            "3\n",
            "https://www.foodnetwork.com/recipes/recipes-a-z/v\n",
            "8\n",
            "https://www.foodnetwork.com/recipes/recipes-a-z/w\n",
            "14\n",
            "https://www.foodnetwork.com/recipes/recipes-a-z/xyz\n",
            "5\n"
          ]
        }
      ],
      "source": [
        "URL = \"https://www.foodnetwork.com/recipes/recipes-a-z/\"\n",
        "\n",
        "all_recipe_links = set([])\n",
        "# Recipe A-Z\n",
        "soup = get_soup(URL)\n",
        "a_to_z_links = soup.findAll('a', attrs = {'class' : \"o-IndexPagination__a-Button \"})\n",
        "for link in a_to_z_links:\n",
        "  # link_i contains one alphabet link. \n",
        "  link_i = \"https:\"+ link['href']\n",
        "  # Now get all pages for each alphabet. \n",
        "  print(link_i)\n",
        "\n",
        "  count = 1\n",
        "  page_link = link_i+ \"/p/\"+ str(count)\n",
        "  r = requests.get(page_link)\n",
        "  status = r.status_code\n",
        "  while status!=404:\n",
        "    soup = get_soup(page_link)\n",
        "    recipes = soup.findAll('li', attrs = {'class' : \"m-PromoList__a-ListItem\"})\n",
        "    for recipe in recipes:\n",
        "      recipe_link = \"https:\"+recipe.find('a')['href']\n",
        "      all_recipe_links.add(recipe_link)\n",
        "    count+=1\n",
        "    page_link = link_i+ \"/p/\"+ str(count)\n",
        "    r = requests.get(page_link)\n",
        "    status = r.status_code\n",
        "  print(count)"
      ]
    },
    {
      "cell_type": "code",
      "execution_count": null,
      "metadata": {
        "id": "YAVnL5N9eDD1"
      },
      "outputs": [],
      "source": [
        "all_recipe_links = list(set(all_recipe_links))"
      ]
    },
    {
      "cell_type": "code",
      "execution_count": null,
      "metadata": {
        "id": "v9uZ4JhTbiUC",
        "colab": {
          "base_uri": "https://localhost:8080/"
        },
        "outputId": "c13b0410-d8da-4dc4-d5a1-5bdf08655019"
      },
      "outputs": [
        {
          "output_type": "error",
          "ename": "NameError",
          "evalue": "ignored",
          "traceback": [
            "\u001b[0;31m---------------------------------------------------------------------------\u001b[0m",
            "\u001b[0;31mNameError\u001b[0m                                 Traceback (most recent call last)",
            "\u001b[0;32m<ipython-input-1-4e3e54be8588>\u001b[0m in \u001b[0;36m<module>\u001b[0;34m\u001b[0m\n\u001b[1;32m      1\u001b[0m \u001b[0;32mimport\u001b[0m \u001b[0mpickle\u001b[0m\u001b[0;34m\u001b[0m\u001b[0;34m\u001b[0m\u001b[0m\n\u001b[1;32m      2\u001b[0m \u001b[0mf\u001b[0m \u001b[0;34m=\u001b[0m \u001b[0mopen\u001b[0m\u001b[0;34m(\u001b[0m\u001b[0;34m'/content/drive/MyDrive/Semester 8/IR Project/FoodNetworkLinks.pickle'\u001b[0m\u001b[0;34m,\u001b[0m\u001b[0;34m'wb'\u001b[0m\u001b[0;34m)\u001b[0m\u001b[0;34m\u001b[0m\u001b[0;34m\u001b[0m\u001b[0m\n\u001b[0;32m----> 3\u001b[0;31m \u001b[0mpickle\u001b[0m\u001b[0;34m.\u001b[0m\u001b[0mdump\u001b[0m\u001b[0;34m(\u001b[0m\u001b[0mall_recipe_links\u001b[0m\u001b[0;34m,\u001b[0m\u001b[0mf\u001b[0m\u001b[0;34m)\u001b[0m\u001b[0;34m\u001b[0m\u001b[0;34m\u001b[0m\u001b[0m\n\u001b[0m\u001b[1;32m      4\u001b[0m \u001b[0mf\u001b[0m\u001b[0;34m.\u001b[0m\u001b[0mclose\u001b[0m\u001b[0;34m(\u001b[0m\u001b[0;34m)\u001b[0m\u001b[0;34m\u001b[0m\u001b[0;34m\u001b[0m\u001b[0m\n",
            "\u001b[0;31mNameError\u001b[0m: name 'all_recipe_links' is not defined"
          ]
        }
      ],
      "source": [
        "import pickle\n",
        "f = open('/content/drive/MyDrive/Semester 8/IR Project/FoodNetworkLinks.pickle','wb')\n",
        "pickle.dump(all_recipe_links,f)\n",
        "f.close()"
      ]
    },
    {
      "cell_type": "code",
      "execution_count": null,
      "metadata": {
        "id": "FLBx7TS6dFG-"
      },
      "outputs": [],
      "source": [
        "import pandas as pd\n",
        "import requests\n",
        "from bs4 import BeautifulSoup\n",
        "import csv\n",
        "import pandas as pd\n",
        "import os\n",
        "import json\n",
        "from tqdm import tqdm"
      ]
    },
    {
      "cell_type": "code",
      "execution_count": null,
      "metadata": {
        "id": "SqjsLQe9c3KR"
      },
      "outputs": [],
      "source": [
        "import pickle\n",
        "f = open('/content/drive/MyDrive/Semester 8/IR Project/FoodNetworkLinks.pickle','rb')\n",
        "all_recipe_links = pickle.load(f)\n",
        "f.close()"
      ]
    },
    {
      "cell_type": "code",
      "source": [
        "'''\n",
        "Function to get the response for the specified url and parse the response using BeautifulSoup\n",
        "'''\n",
        "def get_soup(URL):\n",
        "    r = requests.get(URL)\n",
        "    soup = BeautifulSoup(r.content, 'html5lib')\n",
        "    return soup"
      ],
      "metadata": {
        "id": "_vfZEJ17xkyg"
      },
      "execution_count": null,
      "outputs": []
    },
    {
      "cell_type": "code",
      "execution_count": null,
      "metadata": {
        "colab": {
          "base_uri": "https://localhost:8080/"
        },
        "id": "F4p2mNQMsAno",
        "outputId": "aa24d7f9-786a-4b35-99b1-617d22cdb91a"
      },
      "outputs": [
        {
          "output_type": "execute_result",
          "data": {
            "text/plain": [
              "77502"
            ]
          },
          "metadata": {},
          "execution_count": 24
        }
      ],
      "source": [
        "len(all_recipe_links)"
      ]
    },
    {
      "cell_type": "code",
      "source": [
        "fourth = int(len(all_recipe_links)/4)\n",
        "\n",
        "all_recipe_links = all_recipe_links[:fourth]\n",
        "# all_recipe_links = all_recipe_links[fourth:2*fourth]\n",
        "# all_recipe_links = all_recipe_links[2*fourth:3*fourth]\n",
        "# all_recipe_links = all_recipe_links[3*fourth:]"
      ],
      "metadata": {
        "id": "EPdLjtAmEzFl"
      },
      "execution_count": null,
      "outputs": []
    },
    {
      "cell_type": "code",
      "execution_count": null,
      "metadata": {
        "id": "EekDxS-iVqgu"
      },
      "outputs": [],
      "source": [
        "def task(all_recipe_links, val):\n",
        "  all_recipes = []\n",
        "  count = 0\n",
        "  for recipe_link in tqdm(all_recipe_links):\n",
        "    # recipe_link = \"https://www.foodnetwork.com/recipes/claire-robinson/bbq-cheese-straws-recipe-1924544\"\n",
        "    try:\n",
        "      recipe = {}\n",
        "      soup = get_soup(recipe_link)\n",
        "      recipe['Link'] = recipe_link\n",
        "      recipe['Name'] = soup.find('span', attrs = {\"class\": 'o-AssetTitle__a-HeadlineText'}).text.strip()\n",
        "      # Level and Total Cook Time\n",
        "      one = soup.find('ul', attrs = {'class' : \"o-RecipeInfo__m-Level\"})\n",
        "      if one is not None:\n",
        "        headlines = one.findAll('span', attrs = {\"class\": \"o-RecipeInfo__a-Headline\"})\n",
        "        descriptions = one.findAll('span', attrs = {\"class\": \"o-RecipeInfo__a-Description\"})\n",
        "        # print(headlines)\n",
        "        # print(descriptions)\n",
        "        idx = 0\n",
        "        for headline in headlines:\n",
        "          recipe[headline.text.strip()] = descriptions[idx].text.strip()\n",
        "          idx+=1\n",
        "\n",
        "      # total = one.find('span', attrs = {\"class\": \"o-RecipeInfo__a-Description m-RecipeInfo__a-Description--Total\"})\n",
        "      # recipe['Total'] = total.text.strip()\n",
        "\n",
        "      # Prep time and Cooking Time\n",
        "      two = soup.find('ul', attrs = {'class' : \"o-RecipeInfo__m-Time\"})\n",
        "      if two is not None:\n",
        "        headlines = two.findAll('span', attrs = {\"class\": \"o-RecipeInfo__a-Headline\"})\n",
        "        descriptions = two.findAll('span', attrs = {\"class\": \"o-RecipeInfo__a-Description\"})\n",
        "        # print(headlines)\n",
        "        # print(descriptions)\n",
        "        idx = 0\n",
        "        for headline in headlines:\n",
        "          recipe[headline.text.strip()] = descriptions[idx].text.strip()\n",
        "          idx+=1\n",
        "\n",
        "      # Yeild and Nutrition\n",
        "      three = soup.find('ul', attrs = {'class' : \"o-RecipeInfo__m-Yield\"})\n",
        "      if three is not None:\n",
        "        recipe['Yield'] = three.find('span', attrs = {'class' :'o-RecipeInfo__a-Description'}).text.strip()\n",
        "\n",
        "      nutrition = soup.find('dl',attrs = {'class':'m-NutritionTable__a-Content'})\n",
        "      if nutrition is not None:\n",
        "        nutrition_vals = {}\n",
        "        tags = nutrition.findAll('dt', attrs = {\"class\": \"m-NutritionTable__a-Headline\"})\n",
        "        values = nutrition.findAll('dd', attrs = {\"class\": \"m-NutritionTable__a-Description\"})\n",
        "        idx = 0\n",
        "        for tag in tags:\n",
        "          tag = tag.text\n",
        "          nutrition_vals[tag] = values[idx].text.strip()\n",
        "          idx+=1\n",
        "        recipe['Nutrition Info'] = nutrition_vals\n",
        "\n",
        "      \n",
        "      ingredients = soup.findAll('span', attrs = {'class': 'o-Ingredients__a-Ingredient--CheckboxLabel'})\n",
        "      if ingredients is not None:\n",
        "        ingredient_list = []\n",
        "        for ingredient in ingredients:\n",
        "          ingredient_list.append(ingredient.text.strip())\n",
        "        recipe['Ingredients'] = ingredient_list[1:]\n",
        "\n",
        "      \n",
        "      method_list = soup.findAll('li', attrs = {'class':'o-Method__m-Step'})\n",
        "      if method_list is not None:\n",
        "        methods = []\n",
        "        for method in method_list:\n",
        "          methods.append(method.text.strip())\n",
        "        recipe['Method'] = methods\n",
        "\n",
        "      all_recipes.append(recipe)\n",
        "      \n",
        "    except Exception as e: \n",
        "      print(recipe_link)\n",
        "      print(e)\n",
        "      break;\n",
        "    count+=1\n",
        "    \n",
        "    # Dump after every 100 recipes\n",
        "    if(count%100 == 0):\n",
        "      dataframe = pd.DataFrame(all_recipes)\n",
        "      dataframe.to_csv('/content/drive/MyDrive/Semester 8/IR Project/_1_'+ val+ '_AllRecipes.csv')\n",
        "      break\n",
        "    \n",
        "  dataframe = pd.DataFrame(all_recipes)\n",
        "  dataframe.to_csv('/content/drive/MyDrive/Semester 8/IR Project/_1_'+ val+ '_AllRecipes.csv')\n",
        "  return "
      ]
    },
    {
      "cell_type": "code",
      "source": [
        "from threading import Thread\n",
        "fourth = int(len(all_recipe_links)/4)\n",
        "\n",
        "t1 = Thread(target=task, args=[all_recipe_links[:fourth],\"1\"] )\n",
        "t2 = Thread(target=task, args=[all_recipe_links[fourth: 2*fourth],\"2\"] )\n",
        "t3 = Thread(target=task, args=[all_recipe_links[2*fourth:3*fourth],\"3\"] )\n",
        "t4 = Thread(target=task, args=[all_recipe_links[3*fourth:],\"4\"] )\n",
        "\n",
        "t1.start()\n",
        "t2.start()\n",
        "t3.start()\n",
        "t4.start()\n",
        "\n",
        "t1.join()\n",
        "t2.join()\n",
        "t3.join()\n",
        "t4.join()"
      ],
      "metadata": {
        "colab": {
          "base_uri": "https://localhost:8080/",
          "height": 1000
        },
        "id": "pzB52b7h-dQc",
        "outputId": "56ee9927-7ee7-47c7-a3f9-cef8cb08e8ff"
      },
      "execution_count": null,
      "outputs": [
        {
          "output_type": "stream",
          "name": "stderr",
          "text": [
            "\n",
            "\n",
            "  3%|▎         | 504/19375 [24:28<16:06:14,  3.07s/it]\n",
            "\n",
            "\n",
            "\n",
            "  0%|          | 0/4843 [00:00<?, ?it/s]\u001b[A\u001b[A\u001b[A\u001b[A\n",
            "\n",
            "\n",
            "\n",
            "\n",
            "  0%|          | 0/4843 [00:00<?, ?it/s]\u001b[A\u001b[A\u001b[A\u001b[A\u001b[A\n",
            "\n",
            "\n",
            "\n",
            "\n",
            "\n",
            "\n",
            "  0%|          | 0/4843 [00:00<?, ?it/s]\u001b[A\u001b[A\u001b[A\u001b[A\u001b[A\u001b[A\u001b[A\n",
            "\n",
            "\n",
            "\n",
            "\n",
            "\n",
            "  0%|          | 0/4846 [00:00<?, ?it/s]\u001b[A\u001b[A\u001b[A\u001b[A\u001b[A\u001b[A\n",
            "\n",
            "\n",
            "\n",
            "  0%|          | 1/4843 [00:00<1:10:24,  1.15it/s]\u001b[A\u001b[A\u001b[A\u001b[A\n",
            "  3%|▎         | 497/19375 [24:28<12:40:10,  2.42s/it]\u001b[A\n",
            "\n",
            "\n",
            "\n",
            "  0%|          | 2/4843 [00:01<1:14:55,  1.08it/s]\u001b[A\u001b[A\u001b[A\u001b[A\n",
            "\n",
            "  3%|▎         | 504/19375 [24:31<13:36:58,  2.60s/it]\u001b[A\u001b[A\n",
            "\n",
            "\n",
            "  3%|▎         | 507/19377 [24:32<18:28:02,  3.52s/it]\u001b[A\u001b[A\u001b[A\n",
            "\n",
            "\n",
            "\n",
            "\n",
            "\n",
            "\n",
            "  0%|          | 1/4843 [00:04<5:42:29,  4.24s/it]\u001b[A\u001b[A\u001b[A\u001b[A\u001b[A\u001b[A\u001b[A\n",
            "\n",
            "\n",
            "\n",
            "\n",
            "\n",
            "  0%|          | 1/4846 [00:04<5:40:58,  4.22s/it]\u001b[A\u001b[A\u001b[A\u001b[A\u001b[A\u001b[A\n",
            "\n",
            "\n",
            "\n",
            "\n",
            "  3%|▎         | 505/19375 [24:33<19:23:02,  3.70s/it]\n",
            "  3%|▎         | 498/19375 [24:33<15:42:39,  3.00s/it]\u001b[A\n",
            "\n",
            "\n",
            "\n",
            "  0%|          | 3/4843 [00:05<3:04:08,  2.28s/it]\u001b[A\u001b[A\u001b[A\u001b[A\n",
            "\n",
            "\n",
            "  3%|▎         | 508/19377 [24:36<19:38:58,  3.75s/it]\u001b[A\u001b[A\u001b[A\n",
            "\n",
            "\n",
            "\n",
            "\n",
            "\n",
            "  0%|          | 2/4846 [00:09<6:45:48,  5.03s/it]\u001b[A\u001b[A\u001b[A\u001b[A\u001b[A\u001b[A\n",
            "\n",
            "  3%|▎         | 505/19375 [24:38<19:39:46,  3.75s/it]\u001b[A\u001b[A\n",
            "  3%|▎         | 499/19375 [24:38<18:19:34,  3.50s/it]\u001b[A\n",
            "\n",
            "\n",
            "\n",
            "  0%|          | 4/4843 [00:10<4:07:59,  3.07s/it]\u001b[A\u001b[A\u001b[A\u001b[A\n",
            "\n",
            "\n",
            "\n",
            "\n",
            "\n",
            "\n",
            "  3%|▎         | 506/19375 [24:38<21:38:05,  4.13s/it]\n",
            "\n",
            "\n",
            "\n",
            "\n",
            "  0%|          | 2/4843 [00:10<7:00:20,  5.21s/it]\u001b[A\u001b[A\u001b[A\u001b[A\u001b[A\n",
            "\n",
            "\n",
            "\n",
            "  0%|          | 5/4843 [00:11<3:07:43,  2.33s/it]\u001b[A\u001b[A\u001b[A\u001b[A\n",
            "\n",
            "\n",
            "  3%|▎         | 509/19377 [24:39<18:22:45,  3.51s/it]\u001b[A\u001b[A\u001b[A\n",
            "\n",
            "\n",
            "\n",
            "  0%|          | 6/4843 [00:11<2:27:35,  1.83s/it]\u001b[A\u001b[A\u001b[A\u001b[A\n",
            "\n",
            "\n",
            "\n",
            "\n",
            "\n",
            "\n",
            "  0%|          | 3/4843 [00:13<5:37:57,  4.19s/it]\u001b[A\u001b[A\u001b[A\u001b[A\u001b[A\u001b[A\u001b[A\n",
            "\n",
            "\n",
            "\n",
            "\n",
            "\n",
            "  3%|▎         | 507/19375 [24:42<21:08:54,  4.04s/it]"
          ]
        },
        {
          "output_type": "error",
          "ename": "KeyboardInterrupt",
          "evalue": "ignored",
          "traceback": [
            "\u001b[0;31m---------------------------------------------------------------------------\u001b[0m",
            "\u001b[0;31mKeyboardInterrupt\u001b[0m                         Traceback (most recent call last)",
            "\u001b[0;32m<ipython-input-27-c42e85204f91>\u001b[0m in \u001b[0;36m<module>\u001b[0;34m\u001b[0m\n\u001b[1;32m     12\u001b[0m \u001b[0mt4\u001b[0m\u001b[0;34m.\u001b[0m\u001b[0mstart\u001b[0m\u001b[0;34m(\u001b[0m\u001b[0;34m)\u001b[0m\u001b[0;34m\u001b[0m\u001b[0;34m\u001b[0m\u001b[0m\n\u001b[1;32m     13\u001b[0m \u001b[0;34m\u001b[0m\u001b[0m\n\u001b[0;32m---> 14\u001b[0;31m \u001b[0mt1\u001b[0m\u001b[0;34m.\u001b[0m\u001b[0mjoin\u001b[0m\u001b[0;34m(\u001b[0m\u001b[0;34m)\u001b[0m\u001b[0;34m\u001b[0m\u001b[0;34m\u001b[0m\u001b[0m\n\u001b[0m\u001b[1;32m     15\u001b[0m \u001b[0mt2\u001b[0m\u001b[0;34m.\u001b[0m\u001b[0mjoin\u001b[0m\u001b[0;34m(\u001b[0m\u001b[0;34m)\u001b[0m\u001b[0;34m\u001b[0m\u001b[0;34m\u001b[0m\u001b[0m\n\u001b[1;32m     16\u001b[0m \u001b[0mt3\u001b[0m\u001b[0;34m.\u001b[0m\u001b[0mjoin\u001b[0m\u001b[0;34m(\u001b[0m\u001b[0;34m)\u001b[0m\u001b[0;34m\u001b[0m\u001b[0;34m\u001b[0m\u001b[0m\n",
            "\u001b[0;32m/usr/lib/python3.8/threading.py\u001b[0m in \u001b[0;36mjoin\u001b[0;34m(self, timeout)\u001b[0m\n\u001b[1;32m   1009\u001b[0m \u001b[0;34m\u001b[0m\u001b[0m\n\u001b[1;32m   1010\u001b[0m         \u001b[0;32mif\u001b[0m \u001b[0mtimeout\u001b[0m \u001b[0;32mis\u001b[0m \u001b[0;32mNone\u001b[0m\u001b[0;34m:\u001b[0m\u001b[0;34m\u001b[0m\u001b[0;34m\u001b[0m\u001b[0m\n\u001b[0;32m-> 1011\u001b[0;31m             \u001b[0mself\u001b[0m\u001b[0;34m.\u001b[0m\u001b[0m_wait_for_tstate_lock\u001b[0m\u001b[0;34m(\u001b[0m\u001b[0;34m)\u001b[0m\u001b[0;34m\u001b[0m\u001b[0;34m\u001b[0m\u001b[0m\n\u001b[0m\u001b[1;32m   1012\u001b[0m         \u001b[0;32melse\u001b[0m\u001b[0;34m:\u001b[0m\u001b[0;34m\u001b[0m\u001b[0;34m\u001b[0m\u001b[0m\n\u001b[1;32m   1013\u001b[0m             \u001b[0;31m# the behavior of a negative timeout isn't documented, but\u001b[0m\u001b[0;34m\u001b[0m\u001b[0;34m\u001b[0m\u001b[0;34m\u001b[0m\u001b[0m\n",
            "\u001b[0;32m/usr/lib/python3.8/threading.py\u001b[0m in \u001b[0;36m_wait_for_tstate_lock\u001b[0;34m(self, block, timeout)\u001b[0m\n\u001b[1;32m   1025\u001b[0m         \u001b[0;32mif\u001b[0m \u001b[0mlock\u001b[0m \u001b[0;32mis\u001b[0m \u001b[0;32mNone\u001b[0m\u001b[0;34m:\u001b[0m  \u001b[0;31m# already determined that the C code is done\u001b[0m\u001b[0;34m\u001b[0m\u001b[0;34m\u001b[0m\u001b[0m\n\u001b[1;32m   1026\u001b[0m             \u001b[0;32massert\u001b[0m \u001b[0mself\u001b[0m\u001b[0;34m.\u001b[0m\u001b[0m_is_stopped\u001b[0m\u001b[0;34m\u001b[0m\u001b[0;34m\u001b[0m\u001b[0m\n\u001b[0;32m-> 1027\u001b[0;31m         \u001b[0;32melif\u001b[0m \u001b[0mlock\u001b[0m\u001b[0;34m.\u001b[0m\u001b[0macquire\u001b[0m\u001b[0;34m(\u001b[0m\u001b[0mblock\u001b[0m\u001b[0;34m,\u001b[0m \u001b[0mtimeout\u001b[0m\u001b[0;34m)\u001b[0m\u001b[0;34m:\u001b[0m\u001b[0;34m\u001b[0m\u001b[0;34m\u001b[0m\u001b[0m\n\u001b[0m\u001b[1;32m   1028\u001b[0m             \u001b[0mlock\u001b[0m\u001b[0;34m.\u001b[0m\u001b[0mrelease\u001b[0m\u001b[0;34m(\u001b[0m\u001b[0;34m)\u001b[0m\u001b[0;34m\u001b[0m\u001b[0;34m\u001b[0m\u001b[0m\n\u001b[1;32m   1029\u001b[0m             \u001b[0mself\u001b[0m\u001b[0;34m.\u001b[0m\u001b[0m_stop\u001b[0m\u001b[0;34m(\u001b[0m\u001b[0;34m)\u001b[0m\u001b[0;34m\u001b[0m\u001b[0;34m\u001b[0m\u001b[0m\n",
            "\u001b[0;31mKeyboardInterrupt\u001b[0m: "
          ]
        },
        {
          "output_type": "stream",
          "name": "stderr",
          "text": [
            "\n",
            "\n",
            "  3%|▎         | 506/19375 [24:42<20:31:27,  3.92s/it]\u001b[A\u001b[A\n",
            "  3%|▎         | 500/19375 [24:42<19:44:25,  3.77s/it]\u001b[A\n",
            "\n",
            "\n",
            "\n",
            "  0%|          | 7/4843 [00:14<2:49:03,  2.10s/it]\u001b[A\u001b[A\u001b[A\u001b[A"
          ]
        }
      ]
    },
    {
      "cell_type": "code",
      "execution_count": null,
      "metadata": {
        "id": "9b9z1-zUgkYI"
      },
      "outputs": [],
      "source": [
        "{'Level': 'Easy',\n",
        " 'Total': '30 min',\n",
        " 'Prep': '15 min',\n",
        " 'Cook': '15 min',\n",
        " 'Yield': '6 servings',\n",
        " 'Nutrition Info': {'Serving Size': '1 of 8 servings',\n",
        "  'Calories': '248',\n",
        "  'Total Fat': '19 g',\n",
        "  'Saturated Fat': '11 g',\n",
        "  'Carbohydrates': '13 g',\n",
        "  'Dietary Fiber': '0 g',\n",
        "  'Sugar': '0 g',\n",
        "  'Protein': '8 g',\n",
        "  'Cholesterol': '53 mg',\n",
        "  'Sodium': '162 mg'},\n",
        " 'Ingredients': ['1 1/2 cups coarsely grated extra-sharp Cheddar',\n",
        "  '1 cup unbleached all-purpose flour, plus more for dusting',\n",
        "  '3/4 stick cold unsalted butter, cut into tablespoons',\n",
        "  '1/2 teaspoon salt',\n",
        "  '1 tablespoon BBQ seasoning mix',\n",
        "  '2 tablespoons heavy cream'],\n",
        " 'Method': ['Preheat the oven to 350 degrees F with the racks in the upper and lower thirds of the oven. Line 2 sheet pans with parchment paper and set aside.',\n",
        "  'Add the cheese, flour, butter, salt and BBQ mix to the bowl of a food processor and pulse until the mixture resembles coarse meal. Add the cream and pulse until a ball forms.',\n",
        "  'On a lightly floured work surface, roll the dough out to 1/4 to 1/8-inch thick. Cut the dough with a sharp knife into 1/4-inch wide strips. Transfer to the prepared sheet pans, leaving space between them, and bake until golden brown, about 15 minutes. Flip the pans once halfway through the cooking time. Cool completely on the sheet pans.',\n",
        "  'BYOC: If your friends are the spicy type, try adding a pinch or 2 of cayenne. If you want to get the kids involved, omit the BBQ spice, have them paint the straws with egg wash before you bake them and add some sesame seeds or poppy seeds.']}"
      ]
    }
  ],
  "metadata": {
    "colab": {
      "provenance": []
    },
    "kernelspec": {
      "display_name": "Python 3",
      "name": "python3"
    },
    "language_info": {
      "name": "python"
    }
  },
  "nbformat": 4,
  "nbformat_minor": 0
}