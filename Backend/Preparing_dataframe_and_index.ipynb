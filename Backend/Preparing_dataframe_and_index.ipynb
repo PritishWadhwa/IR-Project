{
  "nbformat": 4,
  "nbformat_minor": 0,
  "metadata": {
    "colab": {
      "provenance": []
    },
    "kernelspec": {
      "name": "python3",
      "display_name": "Python 3"
    },
    "language_info": {
      "name": "python"
    }
  },
  "cells": [
    {
      "cell_type": "code",
      "execution_count": null,
      "metadata": {
        "id": "YQDkXAPOZszh"
      },
      "outputs": [],
      "source": [
        "import pickle\n",
        "from tqdm import tqdm\n",
        "import pandas as pd\n",
        "import numpy as np"
      ]
    },
    {
      "cell_type": "code",
      "source": [
        "from google.colab import drive\n",
        "drive.mount('/content/drive')"
      ],
      "metadata": {
        "colab": {
          "base_uri": "https://localhost:8080/"
        },
        "id": "im8lYNBwZ1mx",
        "outputId": "6b50ae84-15b5-4881-b04f-8e93bd8f750e"
      },
      "execution_count": null,
      "outputs": [
        {
          "output_type": "stream",
          "name": "stdout",
          "text": [
            "Drive already mounted at /content/drive; to attempt to forcibly remount, call drive.mount(\"/content/drive\", force_remount=True).\n"
          ]
        }
      ]
    },
    {
      "cell_type": "code",
      "source": [
        "# Appending all sixteen files into one dataframe - masterDf\n",
        "\n",
        "masterDf = pd.read_csv('/content/drive/MyDrive/IR Project/Data Extraction Files (ner)/_1_1_AllRecipes_ner.csv')\n",
        "for ii in [1,2,3,4]:\n",
        "    for jj in [1, 2, 3, 4]:\n",
        "\n",
        "        print(ii, jj)\n",
        "\n",
        "        if ii == 1 and jj == 1:\n",
        "            continue\n",
        "        \n",
        "        filename = '/content/drive/MyDrive/IR Project/Data Extraction Files (ner)/_' + str(ii) + '_' + str(jj) + '_AllRecipes_ner.csv'\n",
        "        recipes = pd.read_csv(filename)\n",
        "        masterDf = pd.concat([masterDf, recipes])"
      ],
      "metadata": {
        "id": "UJ1DCf0KeGTw",
        "colab": {
          "base_uri": "https://localhost:8080/"
        },
        "outputId": "4ff68494-3b86-4d2d-c316-c804966afb9a"
      },
      "execution_count": null,
      "outputs": [
        {
          "output_type": "stream",
          "name": "stdout",
          "text": [
            "1 1\n",
            "1 2\n",
            "1 3\n",
            "1 4\n",
            "2 1\n",
            "2 2\n",
            "2 3\n",
            "2 4\n",
            "3 1\n",
            "3 2\n",
            "3 3\n",
            "3 4\n",
            "4 1\n",
            "4 2\n",
            "4 3\n",
            "4 4\n"
          ]
        }
      ]
    },
    {
      "cell_type": "code",
      "source": [
        "masterDf.head()"
      ],
      "metadata": {
        "colab": {
          "base_uri": "https://localhost:8080/",
          "height": 686
        },
        "id": "aDdoXw6kfM4Z",
        "outputId": "fcf05873-8fd4-4398-a378-7f3b2493e35d"
      },
      "execution_count": null,
      "outputs": [
        {
          "output_type": "execute_result",
          "data": {
            "text/plain": [
              "   Unnamed: 0.1  Unnamed: 0  \\\n",
              "0             0           0   \n",
              "1             1           1   \n",
              "2             2           2   \n",
              "3             3           3   \n",
              "4             4           4   \n",
              "\n",
              "                                                Link  \\\n",
              "0  https://www.foodnetwork.com/recipes/rachael-ra...   \n",
              "1  https://www.foodnetwork.com/recipes/french-bre...   \n",
              "2  https://www.foodnetwork.com/recipes/food-netwo...   \n",
              "3  https://www.foodnetwork.com/recipes/rachael-ra...   \n",
              "4  https://www.foodnetwork.com/recipes/katie-lee/...   \n",
              "\n",
              "                           Name Level:       Total:   Prep:   Cook:  \\\n",
              "0            Everything Lo Mein   Easy       30 min  15 min  15 min   \n",
              "1          French Bread Pudding    NaN       50 min     NaN  50 min   \n",
              "2                         Bamya   Easy  1 hr 10 min     NaN     NaN   \n",
              "3  Spinach Fettuccine Primavera   Easy       27 min  15 min  12 min   \n",
              "4    Yogurt Wet Rub for Chicken   Easy        5 min     NaN     NaN   \n",
              "\n",
              "             Yield                                     Nutrition Info  \\\n",
              "0       4 servings  {'Serving Size': '1 of 14 servings', 'Calories...   \n",
              "1       6 servings  {'Serving Size': '1 of 20 servings', 'Calories...   \n",
              "2  4 to 6 servings  {'Serving Size': '1 of 8 servings', 'Calories'...   \n",
              "3  4 to 6 servings  {'Serving Size': '1 of 10 servings', 'Calories...   \n",
              "4            1 cup  {'Serving Size': '1 of 2 servings', 'Calories'...   \n",
              "\n",
              "                                         Ingredients  \\\n",
              "0  ['3 rounded tablespoons hoisin sauce', '3 tabl...   \n",
              "1  ['1 cup sugar', '8 Tbs. butter, softened (1 st...   \n",
              "2  [\"1 pound boneless lamb stew meat, cut into 1-...   \n",
              "3  ['Salt', '1 pound spinach fettuccine', '2 carr...   \n",
              "4  ['1 cup Greek yogurt', '1 teaspoon turmeric', ...   \n",
              "\n",
              "                                              Method Active: Inactive:  \\\n",
              "0  ['Mix together sauce ingredients and reserve.'...     NaN       NaN   \n",
              "1  ['Preheat oven to 350 degrees F. In a large bo...     NaN       NaN   \n",
              "2  ['Mix the lamb with 1 teaspoon seven spice ble...  20 min       NaN   \n",
              "3  ['Bring water for pasta to a boil. Salt the wa...     NaN       NaN   \n",
              "4  ['Mix the yogurt, turmeric, paprika, salt, gar...   5 min       NaN   \n",
              "\n",
              "                                     ner_ingredients Yield:  \n",
              "0  hoisin sauce, dark soy, water, sauce, spaghett...    NaN  \n",
              "1  sugar, butter, egg, heavy cream, cinnamon, van...    NaN  \n",
              "2  lamb stew meat, olive oil, onion, garlic, cila...    NaN  \n",
              "3  salt, spinach fettuccine, carrot, zucchini, ex...    NaN  \n",
              "4  greek yogurt, turmeric, paprika, salt, garlic ...    NaN  "
            ],
            "text/html": [
              "\n",
              "  <div id=\"df-a9d17bfe-5a84-4dc1-ba3a-0334ed951b39\">\n",
              "    <div class=\"colab-df-container\">\n",
              "      <div>\n",
              "<style scoped>\n",
              "    .dataframe tbody tr th:only-of-type {\n",
              "        vertical-align: middle;\n",
              "    }\n",
              "\n",
              "    .dataframe tbody tr th {\n",
              "        vertical-align: top;\n",
              "    }\n",
              "\n",
              "    .dataframe thead th {\n",
              "        text-align: right;\n",
              "    }\n",
              "</style>\n",
              "<table border=\"1\" class=\"dataframe\">\n",
              "  <thead>\n",
              "    <tr style=\"text-align: right;\">\n",
              "      <th></th>\n",
              "      <th>Unnamed: 0.1</th>\n",
              "      <th>Unnamed: 0</th>\n",
              "      <th>Link</th>\n",
              "      <th>Name</th>\n",
              "      <th>Level:</th>\n",
              "      <th>Total:</th>\n",
              "      <th>Prep:</th>\n",
              "      <th>Cook:</th>\n",
              "      <th>Yield</th>\n",
              "      <th>Nutrition Info</th>\n",
              "      <th>Ingredients</th>\n",
              "      <th>Method</th>\n",
              "      <th>Active:</th>\n",
              "      <th>Inactive:</th>\n",
              "      <th>ner_ingredients</th>\n",
              "      <th>Yield:</th>\n",
              "    </tr>\n",
              "  </thead>\n",
              "  <tbody>\n",
              "    <tr>\n",
              "      <th>0</th>\n",
              "      <td>0</td>\n",
              "      <td>0</td>\n",
              "      <td>https://www.foodnetwork.com/recipes/rachael-ra...</td>\n",
              "      <td>Everything Lo Mein</td>\n",
              "      <td>Easy</td>\n",
              "      <td>30 min</td>\n",
              "      <td>15 min</td>\n",
              "      <td>15 min</td>\n",
              "      <td>4 servings</td>\n",
              "      <td>{'Serving Size': '1 of 14 servings', 'Calories...</td>\n",
              "      <td>['3 rounded tablespoons hoisin sauce', '3 tabl...</td>\n",
              "      <td>['Mix together sauce ingredients and reserve.'...</td>\n",
              "      <td>NaN</td>\n",
              "      <td>NaN</td>\n",
              "      <td>hoisin sauce, dark soy, water, sauce, spaghett...</td>\n",
              "      <td>NaN</td>\n",
              "    </tr>\n",
              "    <tr>\n",
              "      <th>1</th>\n",
              "      <td>1</td>\n",
              "      <td>1</td>\n",
              "      <td>https://www.foodnetwork.com/recipes/french-bre...</td>\n",
              "      <td>French Bread Pudding</td>\n",
              "      <td>NaN</td>\n",
              "      <td>50 min</td>\n",
              "      <td>NaN</td>\n",
              "      <td>50 min</td>\n",
              "      <td>6 servings</td>\n",
              "      <td>{'Serving Size': '1 of 20 servings', 'Calories...</td>\n",
              "      <td>['1 cup sugar', '8 Tbs. butter, softened (1 st...</td>\n",
              "      <td>['Preheat oven to 350 degrees F. In a large bo...</td>\n",
              "      <td>NaN</td>\n",
              "      <td>NaN</td>\n",
              "      <td>sugar, butter, egg, heavy cream, cinnamon, van...</td>\n",
              "      <td>NaN</td>\n",
              "    </tr>\n",
              "    <tr>\n",
              "      <th>2</th>\n",
              "      <td>2</td>\n",
              "      <td>2</td>\n",
              "      <td>https://www.foodnetwork.com/recipes/food-netwo...</td>\n",
              "      <td>Bamya</td>\n",
              "      <td>Easy</td>\n",
              "      <td>1 hr 10 min</td>\n",
              "      <td>NaN</td>\n",
              "      <td>NaN</td>\n",
              "      <td>4 to 6 servings</td>\n",
              "      <td>{'Serving Size': '1 of 8 servings', 'Calories'...</td>\n",
              "      <td>[\"1 pound boneless lamb stew meat, cut into 1-...</td>\n",
              "      <td>['Mix the lamb with 1 teaspoon seven spice ble...</td>\n",
              "      <td>20 min</td>\n",
              "      <td>NaN</td>\n",
              "      <td>lamb stew meat, olive oil, onion, garlic, cila...</td>\n",
              "      <td>NaN</td>\n",
              "    </tr>\n",
              "    <tr>\n",
              "      <th>3</th>\n",
              "      <td>3</td>\n",
              "      <td>3</td>\n",
              "      <td>https://www.foodnetwork.com/recipes/rachael-ra...</td>\n",
              "      <td>Spinach Fettuccine Primavera</td>\n",
              "      <td>Easy</td>\n",
              "      <td>27 min</td>\n",
              "      <td>15 min</td>\n",
              "      <td>12 min</td>\n",
              "      <td>4 to 6 servings</td>\n",
              "      <td>{'Serving Size': '1 of 10 servings', 'Calories...</td>\n",
              "      <td>['Salt', '1 pound spinach fettuccine', '2 carr...</td>\n",
              "      <td>['Bring water for pasta to a boil. Salt the wa...</td>\n",
              "      <td>NaN</td>\n",
              "      <td>NaN</td>\n",
              "      <td>salt, spinach fettuccine, carrot, zucchini, ex...</td>\n",
              "      <td>NaN</td>\n",
              "    </tr>\n",
              "    <tr>\n",
              "      <th>4</th>\n",
              "      <td>4</td>\n",
              "      <td>4</td>\n",
              "      <td>https://www.foodnetwork.com/recipes/katie-lee/...</td>\n",
              "      <td>Yogurt Wet Rub for Chicken</td>\n",
              "      <td>Easy</td>\n",
              "      <td>5 min</td>\n",
              "      <td>NaN</td>\n",
              "      <td>NaN</td>\n",
              "      <td>1 cup</td>\n",
              "      <td>{'Serving Size': '1 of 2 servings', 'Calories'...</td>\n",
              "      <td>['1 cup Greek yogurt', '1 teaspoon turmeric', ...</td>\n",
              "      <td>['Mix the yogurt, turmeric, paprika, salt, gar...</td>\n",
              "      <td>5 min</td>\n",
              "      <td>NaN</td>\n",
              "      <td>greek yogurt, turmeric, paprika, salt, garlic ...</td>\n",
              "      <td>NaN</td>\n",
              "    </tr>\n",
              "  </tbody>\n",
              "</table>\n",
              "</div>\n",
              "      <button class=\"colab-df-convert\" onclick=\"convertToInteractive('df-a9d17bfe-5a84-4dc1-ba3a-0334ed951b39')\"\n",
              "              title=\"Convert this dataframe to an interactive table.\"\n",
              "              style=\"display:none;\">\n",
              "        \n",
              "  <svg xmlns=\"http://www.w3.org/2000/svg\" height=\"24px\"viewBox=\"0 0 24 24\"\n",
              "       width=\"24px\">\n",
              "    <path d=\"M0 0h24v24H0V0z\" fill=\"none\"/>\n",
              "    <path d=\"M18.56 5.44l.94 2.06.94-2.06 2.06-.94-2.06-.94-.94-2.06-.94 2.06-2.06.94zm-11 1L8.5 8.5l.94-2.06 2.06-.94-2.06-.94L8.5 2.5l-.94 2.06-2.06.94zm10 10l.94 2.06.94-2.06 2.06-.94-2.06-.94-.94-2.06-.94 2.06-2.06.94z\"/><path d=\"M17.41 7.96l-1.37-1.37c-.4-.4-.92-.59-1.43-.59-.52 0-1.04.2-1.43.59L10.3 9.45l-7.72 7.72c-.78.78-.78 2.05 0 2.83L4 21.41c.39.39.9.59 1.41.59.51 0 1.02-.2 1.41-.59l7.78-7.78 2.81-2.81c.8-.78.8-2.07 0-2.86zM5.41 20L4 18.59l7.72-7.72 1.47 1.35L5.41 20z\"/>\n",
              "  </svg>\n",
              "      </button>\n",
              "      \n",
              "  <style>\n",
              "    .colab-df-container {\n",
              "      display:flex;\n",
              "      flex-wrap:wrap;\n",
              "      gap: 12px;\n",
              "    }\n",
              "\n",
              "    .colab-df-convert {\n",
              "      background-color: #E8F0FE;\n",
              "      border: none;\n",
              "      border-radius: 50%;\n",
              "      cursor: pointer;\n",
              "      display: none;\n",
              "      fill: #1967D2;\n",
              "      height: 32px;\n",
              "      padding: 0 0 0 0;\n",
              "      width: 32px;\n",
              "    }\n",
              "\n",
              "    .colab-df-convert:hover {\n",
              "      background-color: #E2EBFA;\n",
              "      box-shadow: 0px 1px 2px rgba(60, 64, 67, 0.3), 0px 1px 3px 1px rgba(60, 64, 67, 0.15);\n",
              "      fill: #174EA6;\n",
              "    }\n",
              "\n",
              "    [theme=dark] .colab-df-convert {\n",
              "      background-color: #3B4455;\n",
              "      fill: #D2E3FC;\n",
              "    }\n",
              "\n",
              "    [theme=dark] .colab-df-convert:hover {\n",
              "      background-color: #434B5C;\n",
              "      box-shadow: 0px 1px 3px 1px rgba(0, 0, 0, 0.15);\n",
              "      filter: drop-shadow(0px 1px 2px rgba(0, 0, 0, 0.3));\n",
              "      fill: #FFFFFF;\n",
              "    }\n",
              "  </style>\n",
              "\n",
              "      <script>\n",
              "        const buttonEl =\n",
              "          document.querySelector('#df-a9d17bfe-5a84-4dc1-ba3a-0334ed951b39 button.colab-df-convert');\n",
              "        buttonEl.style.display =\n",
              "          google.colab.kernel.accessAllowed ? 'block' : 'none';\n",
              "\n",
              "        async function convertToInteractive(key) {\n",
              "          const element = document.querySelector('#df-a9d17bfe-5a84-4dc1-ba3a-0334ed951b39');\n",
              "          const dataTable =\n",
              "            await google.colab.kernel.invokeFunction('convertToInteractive',\n",
              "                                                     [key], {});\n",
              "          if (!dataTable) return;\n",
              "\n",
              "          const docLinkHtml = 'Like what you see? Visit the ' +\n",
              "            '<a target=\"_blank\" href=https://colab.research.google.com/notebooks/data_table.ipynb>data table notebook</a>'\n",
              "            + ' to learn more about interactive tables.';\n",
              "          element.innerHTML = '';\n",
              "          dataTable['output_type'] = 'display_data';\n",
              "          await google.colab.output.renderOutput(dataTable, element);\n",
              "          const docLink = document.createElement('div');\n",
              "          docLink.innerHTML = docLinkHtml;\n",
              "          element.appendChild(docLink);\n",
              "        }\n",
              "      </script>\n",
              "    </div>\n",
              "  </div>\n",
              "  "
            ]
          },
          "metadata": {},
          "execution_count": 4
        }
      ]
    },
    {
      "cell_type": "code",
      "source": [
        "masterDf.shape"
      ],
      "metadata": {
        "colab": {
          "base_uri": "https://localhost:8080/"
        },
        "id": "ZBbZWzSJfStt",
        "outputId": "3d0c4e2c-743a-4b6e-e94a-f9d97d5f9e72"
      },
      "execution_count": null,
      "outputs": [
        {
          "output_type": "execute_result",
          "data": {
            "text/plain": [
              "(77233, 16)"
            ]
          },
          "metadata": {},
          "execution_count": 5
        }
      ]
    },
    {
      "cell_type": "code",
      "source": [
        "# load the dictionary that maps food network ingredients to supercook ingredients\n",
        "with open('/content/drive/MyDrive/IR Project/Saved/dictionary of ingredients/ingredient_dict.pickle', 'rb') as handle:\n",
        "    ing_dict = pickle.load(handle)"
      ],
      "metadata": {
        "id": "ztd35FAbemwm"
      },
      "execution_count": null,
      "outputs": []
    },
    {
      "cell_type": "code",
      "source": [
        "finalIngredients = []\n",
        "for i, j in tqdm(masterDf.iterrows(), total = masterDf.shape[0]):\n",
        "    curr = j['ner_ingredients']\n",
        "    if type(curr) == float:\n",
        "        finalIngredients.append(np.nan)\n",
        "    else:\n",
        "        ings = curr.split(sep=\", \", maxsplit=-1)\n",
        "        temp = \"\"\n",
        "        for ing in ings:\n",
        "            if ing in ing_dict:\n",
        "                temp += ing_dict[ing][0] + \", \"\n",
        "        if temp == \"\":\n",
        "            finalIngredients.append(np.nan)\n",
        "        else:    \n",
        "            temp = temp[:-2]\n",
        "            finalIngredients.append(temp)"
      ],
      "metadata": {
        "colab": {
          "base_uri": "https://localhost:8080/"
        },
        "id": "i22ueDT5gJUa",
        "outputId": "1c1377c6-8790-42c9-db66-15e18076ed3d"
      },
      "execution_count": null,
      "outputs": [
        {
          "output_type": "stream",
          "name": "stderr",
          "text": [
            "100%|██████████| 77233/77233 [00:05<00:00, 13160.65it/s]\n"
          ]
        }
      ]
    },
    {
      "cell_type": "code",
      "source": [
        "masterDf['ingredient_names'] = finalIngredients"
      ],
      "metadata": {
        "id": "bNMXIFNrg6UL"
      },
      "execution_count": null,
      "outputs": []
    },
    {
      "cell_type": "code",
      "source": [
        "masterDf.head()"
      ],
      "metadata": {
        "colab": {
          "base_uri": "https://localhost:8080/",
          "height": 686
        },
        "id": "mzYHQU18hFqK",
        "outputId": "acdf16aa-ad83-409c-ed60-b2700961e4ca"
      },
      "execution_count": null,
      "outputs": [
        {
          "output_type": "execute_result",
          "data": {
            "text/plain": [
              "   Unnamed: 0.1  Unnamed: 0  \\\n",
              "0             0           0   \n",
              "1             1           1   \n",
              "2             2           2   \n",
              "3             3           3   \n",
              "4             4           4   \n",
              "\n",
              "                                                Link  \\\n",
              "0  https://www.foodnetwork.com/recipes/rachael-ra...   \n",
              "1  https://www.foodnetwork.com/recipes/french-bre...   \n",
              "2  https://www.foodnetwork.com/recipes/food-netwo...   \n",
              "3  https://www.foodnetwork.com/recipes/rachael-ra...   \n",
              "4  https://www.foodnetwork.com/recipes/katie-lee/...   \n",
              "\n",
              "                           Name Level:       Total:   Prep:   Cook:  \\\n",
              "0            Everything Lo Mein   Easy       30 min  15 min  15 min   \n",
              "1          French Bread Pudding    NaN       50 min     NaN  50 min   \n",
              "2                         Bamya   Easy  1 hr 10 min     NaN     NaN   \n",
              "3  Spinach Fettuccine Primavera   Easy       27 min  15 min  12 min   \n",
              "4    Yogurt Wet Rub for Chicken   Easy        5 min     NaN     NaN   \n",
              "\n",
              "             Yield                                     Nutrition Info  \\\n",
              "0       4 servings  {'Serving Size': '1 of 14 servings', 'Calories...   \n",
              "1       6 servings  {'Serving Size': '1 of 20 servings', 'Calories...   \n",
              "2  4 to 6 servings  {'Serving Size': '1 of 8 servings', 'Calories'...   \n",
              "3  4 to 6 servings  {'Serving Size': '1 of 10 servings', 'Calories...   \n",
              "4            1 cup  {'Serving Size': '1 of 2 servings', 'Calories'...   \n",
              "\n",
              "                                         Ingredients  \\\n",
              "0  ['3 rounded tablespoons hoisin sauce', '3 tabl...   \n",
              "1  ['1 cup sugar', '8 Tbs. butter, softened (1 st...   \n",
              "2  [\"1 pound boneless lamb stew meat, cut into 1-...   \n",
              "3  ['Salt', '1 pound spinach fettuccine', '2 carr...   \n",
              "4  ['1 cup Greek yogurt', '1 teaspoon turmeric', ...   \n",
              "\n",
              "                                              Method Active: Inactive:  \\\n",
              "0  ['Mix together sauce ingredients and reserve.'...     NaN       NaN   \n",
              "1  ['Preheat oven to 350 degrees F. In a large bo...     NaN       NaN   \n",
              "2  ['Mix the lamb with 1 teaspoon seven spice ble...  20 min       NaN   \n",
              "3  ['Bring water for pasta to a boil. Salt the wa...     NaN       NaN   \n",
              "4  ['Mix the yogurt, turmeric, paprika, salt, gar...   5 min       NaN   \n",
              "\n",
              "                                     ner_ingredients Yield:  \\\n",
              "0  hoisin sauce, dark soy, water, sauce, spaghett...    NaN   \n",
              "1  sugar, butter, egg, heavy cream, cinnamon, van...    NaN   \n",
              "2  lamb stew meat, olive oil, onion, garlic, cila...    NaN   \n",
              "3  salt, spinach fettuccine, carrot, zucchini, ex...    NaN   \n",
              "4  greek yogurt, turmeric, paprika, salt, garlic ...    NaN   \n",
              "\n",
              "                                    ingredient_names  \n",
              "0  hoisin sauce, dark soy sauce, pad thai sauce, ...  \n",
              "1  sugar, butter, egg, heavy cream, cinnamon, van...  \n",
              "2  olive oil, onion, garlic, cilantro, tomato, to...  \n",
              "3  spinach fettuccine, carrot, zucchini, extra vi...  \n",
              "4  greek yogurt, turmeric, paprika, garlic powder...  "
            ],
            "text/html": [
              "\n",
              "  <div id=\"df-80f2944a-0355-41ee-a057-716c918f710c\">\n",
              "    <div class=\"colab-df-container\">\n",
              "      <div>\n",
              "<style scoped>\n",
              "    .dataframe tbody tr th:only-of-type {\n",
              "        vertical-align: middle;\n",
              "    }\n",
              "\n",
              "    .dataframe tbody tr th {\n",
              "        vertical-align: top;\n",
              "    }\n",
              "\n",
              "    .dataframe thead th {\n",
              "        text-align: right;\n",
              "    }\n",
              "</style>\n",
              "<table border=\"1\" class=\"dataframe\">\n",
              "  <thead>\n",
              "    <tr style=\"text-align: right;\">\n",
              "      <th></th>\n",
              "      <th>Unnamed: 0.1</th>\n",
              "      <th>Unnamed: 0</th>\n",
              "      <th>Link</th>\n",
              "      <th>Name</th>\n",
              "      <th>Level:</th>\n",
              "      <th>Total:</th>\n",
              "      <th>Prep:</th>\n",
              "      <th>Cook:</th>\n",
              "      <th>Yield</th>\n",
              "      <th>Nutrition Info</th>\n",
              "      <th>Ingredients</th>\n",
              "      <th>Method</th>\n",
              "      <th>Active:</th>\n",
              "      <th>Inactive:</th>\n",
              "      <th>ner_ingredients</th>\n",
              "      <th>Yield:</th>\n",
              "      <th>ingredient_names</th>\n",
              "    </tr>\n",
              "  </thead>\n",
              "  <tbody>\n",
              "    <tr>\n",
              "      <th>0</th>\n",
              "      <td>0</td>\n",
              "      <td>0</td>\n",
              "      <td>https://www.foodnetwork.com/recipes/rachael-ra...</td>\n",
              "      <td>Everything Lo Mein</td>\n",
              "      <td>Easy</td>\n",
              "      <td>30 min</td>\n",
              "      <td>15 min</td>\n",
              "      <td>15 min</td>\n",
              "      <td>4 servings</td>\n",
              "      <td>{'Serving Size': '1 of 14 servings', 'Calories...</td>\n",
              "      <td>['3 rounded tablespoons hoisin sauce', '3 tabl...</td>\n",
              "      <td>['Mix together sauce ingredients and reserve.'...</td>\n",
              "      <td>NaN</td>\n",
              "      <td>NaN</td>\n",
              "      <td>hoisin sauce, dark soy, water, sauce, spaghett...</td>\n",
              "      <td>NaN</td>\n",
              "      <td>hoisin sauce, dark soy sauce, pad thai sauce, ...</td>\n",
              "    </tr>\n",
              "    <tr>\n",
              "      <th>1</th>\n",
              "      <td>1</td>\n",
              "      <td>1</td>\n",
              "      <td>https://www.foodnetwork.com/recipes/french-bre...</td>\n",
              "      <td>French Bread Pudding</td>\n",
              "      <td>NaN</td>\n",
              "      <td>50 min</td>\n",
              "      <td>NaN</td>\n",
              "      <td>50 min</td>\n",
              "      <td>6 servings</td>\n",
              "      <td>{'Serving Size': '1 of 20 servings', 'Calories...</td>\n",
              "      <td>['1 cup sugar', '8 Tbs. butter, softened (1 st...</td>\n",
              "      <td>['Preheat oven to 350 degrees F. In a large bo...</td>\n",
              "      <td>NaN</td>\n",
              "      <td>NaN</td>\n",
              "      <td>sugar, butter, egg, heavy cream, cinnamon, van...</td>\n",
              "      <td>NaN</td>\n",
              "      <td>sugar, butter, egg, heavy cream, cinnamon, van...</td>\n",
              "    </tr>\n",
              "    <tr>\n",
              "      <th>2</th>\n",
              "      <td>2</td>\n",
              "      <td>2</td>\n",
              "      <td>https://www.foodnetwork.com/recipes/food-netwo...</td>\n",
              "      <td>Bamya</td>\n",
              "      <td>Easy</td>\n",
              "      <td>1 hr 10 min</td>\n",
              "      <td>NaN</td>\n",
              "      <td>NaN</td>\n",
              "      <td>4 to 6 servings</td>\n",
              "      <td>{'Serving Size': '1 of 8 servings', 'Calories'...</td>\n",
              "      <td>[\"1 pound boneless lamb stew meat, cut into 1-...</td>\n",
              "      <td>['Mix the lamb with 1 teaspoon seven spice ble...</td>\n",
              "      <td>20 min</td>\n",
              "      <td>NaN</td>\n",
              "      <td>lamb stew meat, olive oil, onion, garlic, cila...</td>\n",
              "      <td>NaN</td>\n",
              "      <td>olive oil, onion, garlic, cilantro, tomato, to...</td>\n",
              "    </tr>\n",
              "    <tr>\n",
              "      <th>3</th>\n",
              "      <td>3</td>\n",
              "      <td>3</td>\n",
              "      <td>https://www.foodnetwork.com/recipes/rachael-ra...</td>\n",
              "      <td>Spinach Fettuccine Primavera</td>\n",
              "      <td>Easy</td>\n",
              "      <td>27 min</td>\n",
              "      <td>15 min</td>\n",
              "      <td>12 min</td>\n",
              "      <td>4 to 6 servings</td>\n",
              "      <td>{'Serving Size': '1 of 10 servings', 'Calories...</td>\n",
              "      <td>['Salt', '1 pound spinach fettuccine', '2 carr...</td>\n",
              "      <td>['Bring water for pasta to a boil. Salt the wa...</td>\n",
              "      <td>NaN</td>\n",
              "      <td>NaN</td>\n",
              "      <td>salt, spinach fettuccine, carrot, zucchini, ex...</td>\n",
              "      <td>NaN</td>\n",
              "      <td>spinach fettuccine, carrot, zucchini, extra vi...</td>\n",
              "    </tr>\n",
              "    <tr>\n",
              "      <th>4</th>\n",
              "      <td>4</td>\n",
              "      <td>4</td>\n",
              "      <td>https://www.foodnetwork.com/recipes/katie-lee/...</td>\n",
              "      <td>Yogurt Wet Rub for Chicken</td>\n",
              "      <td>Easy</td>\n",
              "      <td>5 min</td>\n",
              "      <td>NaN</td>\n",
              "      <td>NaN</td>\n",
              "      <td>1 cup</td>\n",
              "      <td>{'Serving Size': '1 of 2 servings', 'Calories'...</td>\n",
              "      <td>['1 cup Greek yogurt', '1 teaspoon turmeric', ...</td>\n",
              "      <td>['Mix the yogurt, turmeric, paprika, salt, gar...</td>\n",
              "      <td>5 min</td>\n",
              "      <td>NaN</td>\n",
              "      <td>greek yogurt, turmeric, paprika, salt, garlic ...</td>\n",
              "      <td>NaN</td>\n",
              "      <td>greek yogurt, turmeric, paprika, garlic powder...</td>\n",
              "    </tr>\n",
              "  </tbody>\n",
              "</table>\n",
              "</div>\n",
              "      <button class=\"colab-df-convert\" onclick=\"convertToInteractive('df-80f2944a-0355-41ee-a057-716c918f710c')\"\n",
              "              title=\"Convert this dataframe to an interactive table.\"\n",
              "              style=\"display:none;\">\n",
              "        \n",
              "  <svg xmlns=\"http://www.w3.org/2000/svg\" height=\"24px\"viewBox=\"0 0 24 24\"\n",
              "       width=\"24px\">\n",
              "    <path d=\"M0 0h24v24H0V0z\" fill=\"none\"/>\n",
              "    <path d=\"M18.56 5.44l.94 2.06.94-2.06 2.06-.94-2.06-.94-.94-2.06-.94 2.06-2.06.94zm-11 1L8.5 8.5l.94-2.06 2.06-.94-2.06-.94L8.5 2.5l-.94 2.06-2.06.94zm10 10l.94 2.06.94-2.06 2.06-.94-2.06-.94-.94-2.06-.94 2.06-2.06.94z\"/><path d=\"M17.41 7.96l-1.37-1.37c-.4-.4-.92-.59-1.43-.59-.52 0-1.04.2-1.43.59L10.3 9.45l-7.72 7.72c-.78.78-.78 2.05 0 2.83L4 21.41c.39.39.9.59 1.41.59.51 0 1.02-.2 1.41-.59l7.78-7.78 2.81-2.81c.8-.78.8-2.07 0-2.86zM5.41 20L4 18.59l7.72-7.72 1.47 1.35L5.41 20z\"/>\n",
              "  </svg>\n",
              "      </button>\n",
              "      \n",
              "  <style>\n",
              "    .colab-df-container {\n",
              "      display:flex;\n",
              "      flex-wrap:wrap;\n",
              "      gap: 12px;\n",
              "    }\n",
              "\n",
              "    .colab-df-convert {\n",
              "      background-color: #E8F0FE;\n",
              "      border: none;\n",
              "      border-radius: 50%;\n",
              "      cursor: pointer;\n",
              "      display: none;\n",
              "      fill: #1967D2;\n",
              "      height: 32px;\n",
              "      padding: 0 0 0 0;\n",
              "      width: 32px;\n",
              "    }\n",
              "\n",
              "    .colab-df-convert:hover {\n",
              "      background-color: #E2EBFA;\n",
              "      box-shadow: 0px 1px 2px rgba(60, 64, 67, 0.3), 0px 1px 3px 1px rgba(60, 64, 67, 0.15);\n",
              "      fill: #174EA6;\n",
              "    }\n",
              "\n",
              "    [theme=dark] .colab-df-convert {\n",
              "      background-color: #3B4455;\n",
              "      fill: #D2E3FC;\n",
              "    }\n",
              "\n",
              "    [theme=dark] .colab-df-convert:hover {\n",
              "      background-color: #434B5C;\n",
              "      box-shadow: 0px 1px 3px 1px rgba(0, 0, 0, 0.15);\n",
              "      filter: drop-shadow(0px 1px 2px rgba(0, 0, 0, 0.3));\n",
              "      fill: #FFFFFF;\n",
              "    }\n",
              "  </style>\n",
              "\n",
              "      <script>\n",
              "        const buttonEl =\n",
              "          document.querySelector('#df-80f2944a-0355-41ee-a057-716c918f710c button.colab-df-convert');\n",
              "        buttonEl.style.display =\n",
              "          google.colab.kernel.accessAllowed ? 'block' : 'none';\n",
              "\n",
              "        async function convertToInteractive(key) {\n",
              "          const element = document.querySelector('#df-80f2944a-0355-41ee-a057-716c918f710c');\n",
              "          const dataTable =\n",
              "            await google.colab.kernel.invokeFunction('convertToInteractive',\n",
              "                                                     [key], {});\n",
              "          if (!dataTable) return;\n",
              "\n",
              "          const docLinkHtml = 'Like what you see? Visit the ' +\n",
              "            '<a target=\"_blank\" href=https://colab.research.google.com/notebooks/data_table.ipynb>data table notebook</a>'\n",
              "            + ' to learn more about interactive tables.';\n",
              "          element.innerHTML = '';\n",
              "          dataTable['output_type'] = 'display_data';\n",
              "          await google.colab.output.renderOutput(dataTable, element);\n",
              "          const docLink = document.createElement('div');\n",
              "          docLink.innerHTML = docLinkHtml;\n",
              "          element.appendChild(docLink);\n",
              "        }\n",
              "      </script>\n",
              "    </div>\n",
              "  </div>\n",
              "  "
            ]
          },
          "metadata": {},
          "execution_count": 9
        }
      ]
    },
    {
      "cell_type": "code",
      "source": [
        "masterDf.shape"
      ],
      "metadata": {
        "colab": {
          "base_uri": "https://localhost:8080/"
        },
        "id": "0_cpH5Lehimp",
        "outputId": "6c1c4c31-b123-4170-9558-0411ba56a07f"
      },
      "execution_count": null,
      "outputs": [
        {
          "output_type": "execute_result",
          "data": {
            "text/plain": [
              "(77233, 17)"
            ]
          },
          "metadata": {},
          "execution_count": 10
        }
      ]
    },
    {
      "cell_type": "code",
      "source": [
        "masterDf.columns"
      ],
      "metadata": {
        "colab": {
          "base_uri": "https://localhost:8080/"
        },
        "id": "W6JTVh9BjDhm",
        "outputId": "4f93eb0e-833d-4a83-bdc7-8556c918a641"
      },
      "execution_count": null,
      "outputs": [
        {
          "output_type": "execute_result",
          "data": {
            "text/plain": [
              "Index(['Unnamed: 0.1', 'Unnamed: 0', 'Link', 'Name', 'Level:', 'Total:',\n",
              "       'Prep:', 'Cook:', 'Yield', 'Nutrition Info', 'Ingredients', 'Method',\n",
              "       'Active:', 'Inactive:', 'ner_ingredients', 'Yield:',\n",
              "       'ingredient_names'],\n",
              "      dtype='object')"
            ]
          },
          "metadata": {},
          "execution_count": 11
        }
      ]
    },
    {
      "cell_type": "code",
      "source": [
        "masterDf = masterDf.drop(columns = ['Unnamed: 0.1', 'Unnamed: 0'])"
      ],
      "metadata": {
        "id": "v6AmNe9JBlDs"
      },
      "execution_count": null,
      "outputs": []
    },
    {
      "cell_type": "code",
      "source": [
        "masterDf.to_csv('/content/drive/MyDrive/IR Project/Saved/dataframes/masterDf.csv',index = False)"
      ],
      "metadata": {
        "id": "6s3_AfRjhxNl"
      },
      "execution_count": null,
      "outputs": []
    },
    {
      "cell_type": "markdown",
      "source": [
        "# Editing the masterDf (dropping columns etc.)"
      ],
      "metadata": {
        "id": "T1cJ3rmNiNHf"
      }
    },
    {
      "cell_type": "code",
      "source": [
        "masterDf = pd.read_csv('/content/drive/MyDrive/IR Project/Saved/dataframes/masterDf.csv')"
      ],
      "metadata": {
        "id": "wxFT2hDI-37B"
      },
      "execution_count": null,
      "outputs": []
    },
    {
      "cell_type": "code",
      "source": [
        "masterDf.shape"
      ],
      "metadata": {
        "colab": {
          "base_uri": "https://localhost:8080/"
        },
        "id": "wBHUGjguB3UX",
        "outputId": "b89f350e-645f-402c-f19a-02af893e3d90"
      },
      "execution_count": null,
      "outputs": [
        {
          "output_type": "execute_result",
          "data": {
            "text/plain": [
              "(77233, 15)"
            ]
          },
          "metadata": {},
          "execution_count": 16
        }
      ]
    },
    {
      "cell_type": "code",
      "source": [
        "masterDf.columns"
      ],
      "metadata": {
        "colab": {
          "base_uri": "https://localhost:8080/"
        },
        "id": "RP-Dz6iaB6On",
        "outputId": "9d9c2a5b-0e26-4c2d-dcee-2b09713d4ac9"
      },
      "execution_count": null,
      "outputs": [
        {
          "output_type": "execute_result",
          "data": {
            "text/plain": [
              "Index(['Link', 'Name', 'Level:', 'Total:', 'Prep:', 'Cook:', 'Yield',\n",
              "       'Nutrition Info', 'Ingredients', 'Method', 'Active:', 'Inactive:',\n",
              "       'ner_ingredients', 'Yield:', 'ingredient_names'],\n",
              "      dtype='object')"
            ]
          },
          "metadata": {},
          "execution_count": 17
        }
      ]
    },
    {
      "cell_type": "code",
      "source": [
        "newDf = masterDf.drop(['Active:', 'Inactive:', 'ner_ingredients', 'Yield:', 'Prep:', 'Cook:'], axis=1)"
      ],
      "metadata": {
        "id": "Sjml26azidBv"
      },
      "execution_count": null,
      "outputs": []
    },
    {
      "cell_type": "code",
      "source": [
        "newDf = newDf.rename(columns = {'ingredient_names': 'ingredients', 'Ingredients': 'ingredients_phrase'})"
      ],
      "metadata": {
        "id": "i6oi2WJ5jqiJ"
      },
      "execution_count": null,
      "outputs": []
    },
    {
      "cell_type": "code",
      "source": [
        "newDf.head()"
      ],
      "metadata": {
        "colab": {
          "base_uri": "https://localhost:8080/",
          "height": 423
        },
        "id": "NvyZA2Dkj7EC",
        "outputId": "325bb633-24f1-450a-85f1-4ad245a1ebe8"
      },
      "execution_count": null,
      "outputs": [
        {
          "output_type": "execute_result",
          "data": {
            "text/plain": [
              "                                                Link  \\\n",
              "0  https://www.foodnetwork.com/recipes/rachael-ra...   \n",
              "1  https://www.foodnetwork.com/recipes/french-bre...   \n",
              "2  https://www.foodnetwork.com/recipes/food-netwo...   \n",
              "3  https://www.foodnetwork.com/recipes/rachael-ra...   \n",
              "4  https://www.foodnetwork.com/recipes/katie-lee/...   \n",
              "\n",
              "                           Name Level:       Total:            Yield  \\\n",
              "0            Everything Lo Mein   Easy       30 min       4 servings   \n",
              "1          French Bread Pudding    NaN       50 min       6 servings   \n",
              "2                         Bamya   Easy  1 hr 10 min  4 to 6 servings   \n",
              "3  Spinach Fettuccine Primavera   Easy       27 min  4 to 6 servings   \n",
              "4    Yogurt Wet Rub for Chicken   Easy        5 min            1 cup   \n",
              "\n",
              "                                      Nutrition Info  \\\n",
              "0  {'Serving Size': '1 of 14 servings', 'Calories...   \n",
              "1  {'Serving Size': '1 of 20 servings', 'Calories...   \n",
              "2  {'Serving Size': '1 of 8 servings', 'Calories'...   \n",
              "3  {'Serving Size': '1 of 10 servings', 'Calories...   \n",
              "4  {'Serving Size': '1 of 2 servings', 'Calories'...   \n",
              "\n",
              "                                  ingredients_phrase  \\\n",
              "0  ['3 rounded tablespoons hoisin sauce', '3 tabl...   \n",
              "1  ['1 cup sugar', '8 Tbs. butter, softened (1 st...   \n",
              "2  [\"1 pound boneless lamb stew meat, cut into 1-...   \n",
              "3  ['Salt', '1 pound spinach fettuccine', '2 carr...   \n",
              "4  ['1 cup Greek yogurt', '1 teaspoon turmeric', ...   \n",
              "\n",
              "                                              Method  \\\n",
              "0  ['Mix together sauce ingredients and reserve.'...   \n",
              "1  ['Preheat oven to 350 degrees F. In a large bo...   \n",
              "2  ['Mix the lamb with 1 teaspoon seven spice ble...   \n",
              "3  ['Bring water for pasta to a boil. Salt the wa...   \n",
              "4  ['Mix the yogurt, turmeric, paprika, salt, gar...   \n",
              "\n",
              "                                         ingredients  \n",
              "0  hoisin sauce, dark soy sauce, pad thai sauce, ...  \n",
              "1  sugar, butter, egg, heavy cream, cinnamon, van...  \n",
              "2  olive oil, onion, garlic, cilantro, tomato, to...  \n",
              "3  spinach fettuccine, carrot, zucchini, extra vi...  \n",
              "4  greek yogurt, turmeric, paprika, garlic powder...  "
            ],
            "text/html": [
              "\n",
              "  <div id=\"df-1fdffba2-b21e-44ad-a9ed-d939c3cfa14c\">\n",
              "    <div class=\"colab-df-container\">\n",
              "      <div>\n",
              "<style scoped>\n",
              "    .dataframe tbody tr th:only-of-type {\n",
              "        vertical-align: middle;\n",
              "    }\n",
              "\n",
              "    .dataframe tbody tr th {\n",
              "        vertical-align: top;\n",
              "    }\n",
              "\n",
              "    .dataframe thead th {\n",
              "        text-align: right;\n",
              "    }\n",
              "</style>\n",
              "<table border=\"1\" class=\"dataframe\">\n",
              "  <thead>\n",
              "    <tr style=\"text-align: right;\">\n",
              "      <th></th>\n",
              "      <th>Link</th>\n",
              "      <th>Name</th>\n",
              "      <th>Level:</th>\n",
              "      <th>Total:</th>\n",
              "      <th>Yield</th>\n",
              "      <th>Nutrition Info</th>\n",
              "      <th>ingredients_phrase</th>\n",
              "      <th>Method</th>\n",
              "      <th>ingredients</th>\n",
              "    </tr>\n",
              "  </thead>\n",
              "  <tbody>\n",
              "    <tr>\n",
              "      <th>0</th>\n",
              "      <td>https://www.foodnetwork.com/recipes/rachael-ra...</td>\n",
              "      <td>Everything Lo Mein</td>\n",
              "      <td>Easy</td>\n",
              "      <td>30 min</td>\n",
              "      <td>4 servings</td>\n",
              "      <td>{'Serving Size': '1 of 14 servings', 'Calories...</td>\n",
              "      <td>['3 rounded tablespoons hoisin sauce', '3 tabl...</td>\n",
              "      <td>['Mix together sauce ingredients and reserve.'...</td>\n",
              "      <td>hoisin sauce, dark soy sauce, pad thai sauce, ...</td>\n",
              "    </tr>\n",
              "    <tr>\n",
              "      <th>1</th>\n",
              "      <td>https://www.foodnetwork.com/recipes/french-bre...</td>\n",
              "      <td>French Bread Pudding</td>\n",
              "      <td>NaN</td>\n",
              "      <td>50 min</td>\n",
              "      <td>6 servings</td>\n",
              "      <td>{'Serving Size': '1 of 20 servings', 'Calories...</td>\n",
              "      <td>['1 cup sugar', '8 Tbs. butter, softened (1 st...</td>\n",
              "      <td>['Preheat oven to 350 degrees F. In a large bo...</td>\n",
              "      <td>sugar, butter, egg, heavy cream, cinnamon, van...</td>\n",
              "    </tr>\n",
              "    <tr>\n",
              "      <th>2</th>\n",
              "      <td>https://www.foodnetwork.com/recipes/food-netwo...</td>\n",
              "      <td>Bamya</td>\n",
              "      <td>Easy</td>\n",
              "      <td>1 hr 10 min</td>\n",
              "      <td>4 to 6 servings</td>\n",
              "      <td>{'Serving Size': '1 of 8 servings', 'Calories'...</td>\n",
              "      <td>[\"1 pound boneless lamb stew meat, cut into 1-...</td>\n",
              "      <td>['Mix the lamb with 1 teaspoon seven spice ble...</td>\n",
              "      <td>olive oil, onion, garlic, cilantro, tomato, to...</td>\n",
              "    </tr>\n",
              "    <tr>\n",
              "      <th>3</th>\n",
              "      <td>https://www.foodnetwork.com/recipes/rachael-ra...</td>\n",
              "      <td>Spinach Fettuccine Primavera</td>\n",
              "      <td>Easy</td>\n",
              "      <td>27 min</td>\n",
              "      <td>4 to 6 servings</td>\n",
              "      <td>{'Serving Size': '1 of 10 servings', 'Calories...</td>\n",
              "      <td>['Salt', '1 pound spinach fettuccine', '2 carr...</td>\n",
              "      <td>['Bring water for pasta to a boil. Salt the wa...</td>\n",
              "      <td>spinach fettuccine, carrot, zucchini, extra vi...</td>\n",
              "    </tr>\n",
              "    <tr>\n",
              "      <th>4</th>\n",
              "      <td>https://www.foodnetwork.com/recipes/katie-lee/...</td>\n",
              "      <td>Yogurt Wet Rub for Chicken</td>\n",
              "      <td>Easy</td>\n",
              "      <td>5 min</td>\n",
              "      <td>1 cup</td>\n",
              "      <td>{'Serving Size': '1 of 2 servings', 'Calories'...</td>\n",
              "      <td>['1 cup Greek yogurt', '1 teaspoon turmeric', ...</td>\n",
              "      <td>['Mix the yogurt, turmeric, paprika, salt, gar...</td>\n",
              "      <td>greek yogurt, turmeric, paprika, garlic powder...</td>\n",
              "    </tr>\n",
              "  </tbody>\n",
              "</table>\n",
              "</div>\n",
              "      <button class=\"colab-df-convert\" onclick=\"convertToInteractive('df-1fdffba2-b21e-44ad-a9ed-d939c3cfa14c')\"\n",
              "              title=\"Convert this dataframe to an interactive table.\"\n",
              "              style=\"display:none;\">\n",
              "        \n",
              "  <svg xmlns=\"http://www.w3.org/2000/svg\" height=\"24px\"viewBox=\"0 0 24 24\"\n",
              "       width=\"24px\">\n",
              "    <path d=\"M0 0h24v24H0V0z\" fill=\"none\"/>\n",
              "    <path d=\"M18.56 5.44l.94 2.06.94-2.06 2.06-.94-2.06-.94-.94-2.06-.94 2.06-2.06.94zm-11 1L8.5 8.5l.94-2.06 2.06-.94-2.06-.94L8.5 2.5l-.94 2.06-2.06.94zm10 10l.94 2.06.94-2.06 2.06-.94-2.06-.94-.94-2.06-.94 2.06-2.06.94z\"/><path d=\"M17.41 7.96l-1.37-1.37c-.4-.4-.92-.59-1.43-.59-.52 0-1.04.2-1.43.59L10.3 9.45l-7.72 7.72c-.78.78-.78 2.05 0 2.83L4 21.41c.39.39.9.59 1.41.59.51 0 1.02-.2 1.41-.59l7.78-7.78 2.81-2.81c.8-.78.8-2.07 0-2.86zM5.41 20L4 18.59l7.72-7.72 1.47 1.35L5.41 20z\"/>\n",
              "  </svg>\n",
              "      </button>\n",
              "      \n",
              "  <style>\n",
              "    .colab-df-container {\n",
              "      display:flex;\n",
              "      flex-wrap:wrap;\n",
              "      gap: 12px;\n",
              "    }\n",
              "\n",
              "    .colab-df-convert {\n",
              "      background-color: #E8F0FE;\n",
              "      border: none;\n",
              "      border-radius: 50%;\n",
              "      cursor: pointer;\n",
              "      display: none;\n",
              "      fill: #1967D2;\n",
              "      height: 32px;\n",
              "      padding: 0 0 0 0;\n",
              "      width: 32px;\n",
              "    }\n",
              "\n",
              "    .colab-df-convert:hover {\n",
              "      background-color: #E2EBFA;\n",
              "      box-shadow: 0px 1px 2px rgba(60, 64, 67, 0.3), 0px 1px 3px 1px rgba(60, 64, 67, 0.15);\n",
              "      fill: #174EA6;\n",
              "    }\n",
              "\n",
              "    [theme=dark] .colab-df-convert {\n",
              "      background-color: #3B4455;\n",
              "      fill: #D2E3FC;\n",
              "    }\n",
              "\n",
              "    [theme=dark] .colab-df-convert:hover {\n",
              "      background-color: #434B5C;\n",
              "      box-shadow: 0px 1px 3px 1px rgba(0, 0, 0, 0.15);\n",
              "      filter: drop-shadow(0px 1px 2px rgba(0, 0, 0, 0.3));\n",
              "      fill: #FFFFFF;\n",
              "    }\n",
              "  </style>\n",
              "\n",
              "      <script>\n",
              "        const buttonEl =\n",
              "          document.querySelector('#df-1fdffba2-b21e-44ad-a9ed-d939c3cfa14c button.colab-df-convert');\n",
              "        buttonEl.style.display =\n",
              "          google.colab.kernel.accessAllowed ? 'block' : 'none';\n",
              "\n",
              "        async function convertToInteractive(key) {\n",
              "          const element = document.querySelector('#df-1fdffba2-b21e-44ad-a9ed-d939c3cfa14c');\n",
              "          const dataTable =\n",
              "            await google.colab.kernel.invokeFunction('convertToInteractive',\n",
              "                                                     [key], {});\n",
              "          if (!dataTable) return;\n",
              "\n",
              "          const docLinkHtml = 'Like what you see? Visit the ' +\n",
              "            '<a target=\"_blank\" href=https://colab.research.google.com/notebooks/data_table.ipynb>data table notebook</a>'\n",
              "            + ' to learn more about interactive tables.';\n",
              "          element.innerHTML = '';\n",
              "          dataTable['output_type'] = 'display_data';\n",
              "          await google.colab.output.renderOutput(dataTable, element);\n",
              "          const docLink = document.createElement('div');\n",
              "          docLink.innerHTML = docLinkHtml;\n",
              "          element.appendChild(docLink);\n",
              "        }\n",
              "      </script>\n",
              "    </div>\n",
              "  </div>\n",
              "  "
            ]
          },
          "metadata": {},
          "execution_count": 20
        }
      ]
    },
    {
      "cell_type": "code",
      "source": [
        "newDf.isna().sum()"
      ],
      "metadata": {
        "colab": {
          "base_uri": "https://localhost:8080/"
        },
        "id": "ACM37OLOjk_X",
        "outputId": "ad7d67d9-d22d-4edd-a653-f37502aab5e1"
      },
      "execution_count": null,
      "outputs": [
        {
          "output_type": "execute_result",
          "data": {
            "text/plain": [
              "Link                      0\n",
              "Name                      0\n",
              "Level:                10055\n",
              "Total:                 6409\n",
              "Yield                  4604\n",
              "Nutrition Info        13098\n",
              "ingredients_phrase        0\n",
              "Method                    0\n",
              "ingredients            2444\n",
              "dtype: int64"
            ]
          },
          "metadata": {},
          "execution_count": 21
        }
      ]
    },
    {
      "cell_type": "code",
      "source": [
        "newDf.shape"
      ],
      "metadata": {
        "colab": {
          "base_uri": "https://localhost:8080/"
        },
        "id": "FudbT4-wlTZX",
        "outputId": "65c02745-53d1-44e6-ca55-8eb39970ea93"
      },
      "execution_count": null,
      "outputs": [
        {
          "output_type": "execute_result",
          "data": {
            "text/plain": [
              "(77233, 9)"
            ]
          },
          "metadata": {},
          "execution_count": 22
        }
      ]
    },
    {
      "cell_type": "code",
      "source": [
        "newDf = newDf.dropna()"
      ],
      "metadata": {
        "id": "FWms9U7rl5ay"
      },
      "execution_count": null,
      "outputs": []
    },
    {
      "cell_type": "code",
      "source": [
        "newDf.shape"
      ],
      "metadata": {
        "colab": {
          "base_uri": "https://localhost:8080/"
        },
        "id": "ZTH_zdLomI-4",
        "outputId": "b47aae5e-18ab-4a47-8866-2d0563078b3f"
      },
      "execution_count": null,
      "outputs": [
        {
          "output_type": "execute_result",
          "data": {
            "text/plain": [
              "(54854, 9)"
            ]
          },
          "metadata": {},
          "execution_count": 24
        }
      ]
    },
    {
      "cell_type": "code",
      "source": [
        "newDf.isna().sum()"
      ],
      "metadata": {
        "colab": {
          "base_uri": "https://localhost:8080/"
        },
        "id": "d5Lw_ea-mKaf",
        "outputId": "cfa5dccd-8b72-4adb-f3a5-0b915c485f72"
      },
      "execution_count": null,
      "outputs": [
        {
          "output_type": "execute_result",
          "data": {
            "text/plain": [
              "Link                  0\n",
              "Name                  0\n",
              "Level:                0\n",
              "Total:                0\n",
              "Yield                 0\n",
              "Nutrition Info        0\n",
              "ingredients_phrase    0\n",
              "Method                0\n",
              "ingredients           0\n",
              "dtype: int64"
            ]
          },
          "metadata": {},
          "execution_count": 25
        }
      ]
    },
    {
      "cell_type": "code",
      "source": [
        "newDf.head()"
      ],
      "metadata": {
        "colab": {
          "base_uri": "https://localhost:8080/",
          "height": 423
        },
        "id": "7y-Zl0Idovab",
        "outputId": "85118e8f-0daf-494a-ec44-5ba53b58616c"
      },
      "execution_count": null,
      "outputs": [
        {
          "output_type": "execute_result",
          "data": {
            "text/plain": [
              "                                                Link  \\\n",
              "0  https://www.foodnetwork.com/recipes/rachael-ra...   \n",
              "2  https://www.foodnetwork.com/recipes/food-netwo...   \n",
              "3  https://www.foodnetwork.com/recipes/rachael-ra...   \n",
              "4  https://www.foodnetwork.com/recipes/katie-lee/...   \n",
              "5  https://www.foodnetwork.com/recipes/guy-fieri/...   \n",
              "\n",
              "                           Name Level:       Total:            Yield  \\\n",
              "0            Everything Lo Mein   Easy       30 min       4 servings   \n",
              "2                         Bamya   Easy  1 hr 10 min  4 to 6 servings   \n",
              "3  Spinach Fettuccine Primavera   Easy       27 min  4 to 6 servings   \n",
              "4    Yogurt Wet Rub for Chicken   Easy        5 min            1 cup   \n",
              "5               Weird Spaghetti   Easy  2 hr 30 min       8 servings   \n",
              "\n",
              "                                      Nutrition Info  \\\n",
              "0  {'Serving Size': '1 of 14 servings', 'Calories...   \n",
              "2  {'Serving Size': '1 of 8 servings', 'Calories'...   \n",
              "3  {'Serving Size': '1 of 10 servings', 'Calories...   \n",
              "4  {'Serving Size': '1 of 2 servings', 'Calories'...   \n",
              "5  {'Serving Size': '1 of 16 servings', 'Calories...   \n",
              "\n",
              "                                  ingredients_phrase  \\\n",
              "0  ['3 rounded tablespoons hoisin sauce', '3 tabl...   \n",
              "2  [\"1 pound boneless lamb stew meat, cut into 1-...   \n",
              "3  ['Salt', '1 pound spinach fettuccine', '2 carr...   \n",
              "4  ['1 cup Greek yogurt', '1 teaspoon turmeric', ...   \n",
              "5  ['2 pounds ground beef, (80/20 lean muscle to ...   \n",
              "\n",
              "                                              Method  \\\n",
              "0  ['Mix together sauce ingredients and reserve.'...   \n",
              "2  ['Mix the lamb with 1 teaspoon seven spice ble...   \n",
              "3  ['Bring water for pasta to a boil. Salt the wa...   \n",
              "4  ['Mix the yogurt, turmeric, paprika, salt, gar...   \n",
              "5  ['In a large saute pan over medium heat, brown...   \n",
              "\n",
              "                                         ingredients  \n",
              "0  hoisin sauce, dark soy sauce, pad thai sauce, ...  \n",
              "2  olive oil, onion, garlic, cilantro, tomato, to...  \n",
              "3  spinach fettuccine, carrot, zucchini, extra vi...  \n",
              "4  greek yogurt, turmeric, paprika, garlic powder...  \n",
              "5  onion, cinnamon, clove, cumin, gin, mustard, n...  "
            ],
            "text/html": [
              "\n",
              "  <div id=\"df-8fd0d633-8d9b-47e0-bcad-bc675a32e2df\">\n",
              "    <div class=\"colab-df-container\">\n",
              "      <div>\n",
              "<style scoped>\n",
              "    .dataframe tbody tr th:only-of-type {\n",
              "        vertical-align: middle;\n",
              "    }\n",
              "\n",
              "    .dataframe tbody tr th {\n",
              "        vertical-align: top;\n",
              "    }\n",
              "\n",
              "    .dataframe thead th {\n",
              "        text-align: right;\n",
              "    }\n",
              "</style>\n",
              "<table border=\"1\" class=\"dataframe\">\n",
              "  <thead>\n",
              "    <tr style=\"text-align: right;\">\n",
              "      <th></th>\n",
              "      <th>Link</th>\n",
              "      <th>Name</th>\n",
              "      <th>Level:</th>\n",
              "      <th>Total:</th>\n",
              "      <th>Yield</th>\n",
              "      <th>Nutrition Info</th>\n",
              "      <th>ingredients_phrase</th>\n",
              "      <th>Method</th>\n",
              "      <th>ingredients</th>\n",
              "    </tr>\n",
              "  </thead>\n",
              "  <tbody>\n",
              "    <tr>\n",
              "      <th>0</th>\n",
              "      <td>https://www.foodnetwork.com/recipes/rachael-ra...</td>\n",
              "      <td>Everything Lo Mein</td>\n",
              "      <td>Easy</td>\n",
              "      <td>30 min</td>\n",
              "      <td>4 servings</td>\n",
              "      <td>{'Serving Size': '1 of 14 servings', 'Calories...</td>\n",
              "      <td>['3 rounded tablespoons hoisin sauce', '3 tabl...</td>\n",
              "      <td>['Mix together sauce ingredients and reserve.'...</td>\n",
              "      <td>hoisin sauce, dark soy sauce, pad thai sauce, ...</td>\n",
              "    </tr>\n",
              "    <tr>\n",
              "      <th>2</th>\n",
              "      <td>https://www.foodnetwork.com/recipes/food-netwo...</td>\n",
              "      <td>Bamya</td>\n",
              "      <td>Easy</td>\n",
              "      <td>1 hr 10 min</td>\n",
              "      <td>4 to 6 servings</td>\n",
              "      <td>{'Serving Size': '1 of 8 servings', 'Calories'...</td>\n",
              "      <td>[\"1 pound boneless lamb stew meat, cut into 1-...</td>\n",
              "      <td>['Mix the lamb with 1 teaspoon seven spice ble...</td>\n",
              "      <td>olive oil, onion, garlic, cilantro, tomato, to...</td>\n",
              "    </tr>\n",
              "    <tr>\n",
              "      <th>3</th>\n",
              "      <td>https://www.foodnetwork.com/recipes/rachael-ra...</td>\n",
              "      <td>Spinach Fettuccine Primavera</td>\n",
              "      <td>Easy</td>\n",
              "      <td>27 min</td>\n",
              "      <td>4 to 6 servings</td>\n",
              "      <td>{'Serving Size': '1 of 10 servings', 'Calories...</td>\n",
              "      <td>['Salt', '1 pound spinach fettuccine', '2 carr...</td>\n",
              "      <td>['Bring water for pasta to a boil. Salt the wa...</td>\n",
              "      <td>spinach fettuccine, carrot, zucchini, extra vi...</td>\n",
              "    </tr>\n",
              "    <tr>\n",
              "      <th>4</th>\n",
              "      <td>https://www.foodnetwork.com/recipes/katie-lee/...</td>\n",
              "      <td>Yogurt Wet Rub for Chicken</td>\n",
              "      <td>Easy</td>\n",
              "      <td>5 min</td>\n",
              "      <td>1 cup</td>\n",
              "      <td>{'Serving Size': '1 of 2 servings', 'Calories'...</td>\n",
              "      <td>['1 cup Greek yogurt', '1 teaspoon turmeric', ...</td>\n",
              "      <td>['Mix the yogurt, turmeric, paprika, salt, gar...</td>\n",
              "      <td>greek yogurt, turmeric, paprika, garlic powder...</td>\n",
              "    </tr>\n",
              "    <tr>\n",
              "      <th>5</th>\n",
              "      <td>https://www.foodnetwork.com/recipes/guy-fieri/...</td>\n",
              "      <td>Weird Spaghetti</td>\n",
              "      <td>Easy</td>\n",
              "      <td>2 hr 30 min</td>\n",
              "      <td>8 servings</td>\n",
              "      <td>{'Serving Size': '1 of 16 servings', 'Calories...</td>\n",
              "      <td>['2 pounds ground beef, (80/20 lean muscle to ...</td>\n",
              "      <td>['In a large saute pan over medium heat, brown...</td>\n",
              "      <td>onion, cinnamon, clove, cumin, gin, mustard, n...</td>\n",
              "    </tr>\n",
              "  </tbody>\n",
              "</table>\n",
              "</div>\n",
              "      <button class=\"colab-df-convert\" onclick=\"convertToInteractive('df-8fd0d633-8d9b-47e0-bcad-bc675a32e2df')\"\n",
              "              title=\"Convert this dataframe to an interactive table.\"\n",
              "              style=\"display:none;\">\n",
              "        \n",
              "  <svg xmlns=\"http://www.w3.org/2000/svg\" height=\"24px\"viewBox=\"0 0 24 24\"\n",
              "       width=\"24px\">\n",
              "    <path d=\"M0 0h24v24H0V0z\" fill=\"none\"/>\n",
              "    <path d=\"M18.56 5.44l.94 2.06.94-2.06 2.06-.94-2.06-.94-.94-2.06-.94 2.06-2.06.94zm-11 1L8.5 8.5l.94-2.06 2.06-.94-2.06-.94L8.5 2.5l-.94 2.06-2.06.94zm10 10l.94 2.06.94-2.06 2.06-.94-2.06-.94-.94-2.06-.94 2.06-2.06.94z\"/><path d=\"M17.41 7.96l-1.37-1.37c-.4-.4-.92-.59-1.43-.59-.52 0-1.04.2-1.43.59L10.3 9.45l-7.72 7.72c-.78.78-.78 2.05 0 2.83L4 21.41c.39.39.9.59 1.41.59.51 0 1.02-.2 1.41-.59l7.78-7.78 2.81-2.81c.8-.78.8-2.07 0-2.86zM5.41 20L4 18.59l7.72-7.72 1.47 1.35L5.41 20z\"/>\n",
              "  </svg>\n",
              "      </button>\n",
              "      \n",
              "  <style>\n",
              "    .colab-df-container {\n",
              "      display:flex;\n",
              "      flex-wrap:wrap;\n",
              "      gap: 12px;\n",
              "    }\n",
              "\n",
              "    .colab-df-convert {\n",
              "      background-color: #E8F0FE;\n",
              "      border: none;\n",
              "      border-radius: 50%;\n",
              "      cursor: pointer;\n",
              "      display: none;\n",
              "      fill: #1967D2;\n",
              "      height: 32px;\n",
              "      padding: 0 0 0 0;\n",
              "      width: 32px;\n",
              "    }\n",
              "\n",
              "    .colab-df-convert:hover {\n",
              "      background-color: #E2EBFA;\n",
              "      box-shadow: 0px 1px 2px rgba(60, 64, 67, 0.3), 0px 1px 3px 1px rgba(60, 64, 67, 0.15);\n",
              "      fill: #174EA6;\n",
              "    }\n",
              "\n",
              "    [theme=dark] .colab-df-convert {\n",
              "      background-color: #3B4455;\n",
              "      fill: #D2E3FC;\n",
              "    }\n",
              "\n",
              "    [theme=dark] .colab-df-convert:hover {\n",
              "      background-color: #434B5C;\n",
              "      box-shadow: 0px 1px 3px 1px rgba(0, 0, 0, 0.15);\n",
              "      filter: drop-shadow(0px 1px 2px rgba(0, 0, 0, 0.3));\n",
              "      fill: #FFFFFF;\n",
              "    }\n",
              "  </style>\n",
              "\n",
              "      <script>\n",
              "        const buttonEl =\n",
              "          document.querySelector('#df-8fd0d633-8d9b-47e0-bcad-bc675a32e2df button.colab-df-convert');\n",
              "        buttonEl.style.display =\n",
              "          google.colab.kernel.accessAllowed ? 'block' : 'none';\n",
              "\n",
              "        async function convertToInteractive(key) {\n",
              "          const element = document.querySelector('#df-8fd0d633-8d9b-47e0-bcad-bc675a32e2df');\n",
              "          const dataTable =\n",
              "            await google.colab.kernel.invokeFunction('convertToInteractive',\n",
              "                                                     [key], {});\n",
              "          if (!dataTable) return;\n",
              "\n",
              "          const docLinkHtml = 'Like what you see? Visit the ' +\n",
              "            '<a target=\"_blank\" href=https://colab.research.google.com/notebooks/data_table.ipynb>data table notebook</a>'\n",
              "            + ' to learn more about interactive tables.';\n",
              "          element.innerHTML = '';\n",
              "          dataTable['output_type'] = 'display_data';\n",
              "          await google.colab.output.renderOutput(dataTable, element);\n",
              "          const docLink = document.createElement('div');\n",
              "          docLink.innerHTML = docLinkHtml;\n",
              "          element.appendChild(docLink);\n",
              "        }\n",
              "      </script>\n",
              "    </div>\n",
              "  </div>\n",
              "  "
            ]
          },
          "metadata": {},
          "execution_count": 26
        }
      ]
    },
    {
      "cell_type": "code",
      "source": [
        "newDf['ingredients'] = newDf['ingredients'].apply(lambda x: \", \".join(list(set(x.split(sep=', ', maxsplit=-1)))))"
      ],
      "metadata": {
        "id": "h7UDs-Ask3k9"
      },
      "execution_count": null,
      "outputs": []
    },
    {
      "cell_type": "code",
      "source": [
        "newDf.shape"
      ],
      "metadata": {
        "colab": {
          "base_uri": "https://localhost:8080/"
        },
        "id": "OcJTbsggnxxd",
        "outputId": "2f90ece7-a55e-4d8c-9bfa-e77d4e094dfc"
      },
      "execution_count": null,
      "outputs": [
        {
          "output_type": "execute_result",
          "data": {
            "text/plain": [
              "(54854, 9)"
            ]
          },
          "metadata": {},
          "execution_count": 28
        }
      ]
    },
    {
      "cell_type": "code",
      "source": [
        "newDf = newDf.drop_duplicates(subset = 'Link')\n",
        "newDf.shape"
      ],
      "metadata": {
        "colab": {
          "base_uri": "https://localhost:8080/"
        },
        "id": "BMHoBt8noDmo",
        "outputId": "f8b3408c-2327-4bb2-8b94-8dc73aaffdd3"
      },
      "execution_count": null,
      "outputs": [
        {
          "output_type": "execute_result",
          "data": {
            "text/plain": [
              "(54853, 9)"
            ]
          },
          "metadata": {},
          "execution_count": 29
        }
      ]
    },
    {
      "cell_type": "code",
      "source": [
        "newDf = newDf.reset_index(drop=True)"
      ],
      "metadata": {
        "id": "5rN8kuMC_N7U"
      },
      "execution_count": null,
      "outputs": []
    },
    {
      "cell_type": "code",
      "source": [
        "newDf['id'] = newDf.index"
      ],
      "metadata": {
        "id": "lmRTWwUeq6_i"
      },
      "execution_count": null,
      "outputs": []
    },
    {
      "cell_type": "code",
      "source": [
        "newDf.to_csv('/content/drive/MyDrive/IR Project/Saved/dataframes/newDf.csv', index=False)"
      ],
      "metadata": {
        "id": "E8DV6NbqlIpW"
      },
      "execution_count": null,
      "outputs": []
    },
    {
      "cell_type": "code",
      "source": [
        "# with open ('/content/drive/MyDrive/IR Project/Saved/dataframes/newDf.pickle', 'wb') as f:\n",
        "#     pickle.dump(newDf, f)"
      ],
      "metadata": {
        "id": "1vk2RMVe9U9Q"
      },
      "execution_count": null,
      "outputs": []
    },
    {
      "cell_type": "markdown",
      "source": [
        "# Creating inverted index"
      ],
      "metadata": {
        "id": "fk6-ynuhlT1t"
      }
    },
    {
      "cell_type": "code",
      "source": [
        "# load newDf.csv"
      ],
      "metadata": {
        "id": "sm4FYp26Cd8F"
      },
      "execution_count": null,
      "outputs": []
    },
    {
      "cell_type": "code",
      "source": [
        "invertedIndex = {}\n",
        "for i, j in tqdm(newDf.iterrows(), total = newDf.shape[0]):\n",
        "    ingredients = j['ingredients']\n",
        "    id = j['id']\n",
        "    ingredients1 = ingredients.split(sep=\", \", maxsplit=-1)\n",
        "    for ing in ingredients1:\n",
        "        if ing not in invertedIndex:\n",
        "            invertedIndex[ing] = [1, set([id])]\n",
        "        else:\n",
        "            invertedIndex[ing][0] += 1\n",
        "            invertedIndex[ing][1].add(id)"
      ],
      "metadata": {
        "colab": {
          "base_uri": "https://localhost:8080/"
        },
        "id": "hYjRbhrFrZGe",
        "outputId": "a891a083-e391-4db8-da69-e6c751fb4d55"
      },
      "execution_count": null,
      "outputs": [
        {
          "output_type": "stream",
          "name": "stderr",
          "text": [
            "100%|██████████| 54853/54853 [00:04<00:00, 12217.55it/s]\n"
          ]
        }
      ]
    },
    {
      "cell_type": "code",
      "source": [
        "#1. Sorting the terms\n",
        "terms = sorted(list(invertedIndex.keys()))\n",
        "invertedIndex = {i : invertedIndex[i] for i in terms}\n",
        "\n",
        "#2. Sorting the recipe-id in the posting list\n",
        "for term in invertedIndex:\n",
        "    invertedIndex[term][1] = sorted(list(invertedIndex[term][1]))"
      ],
      "metadata": {
        "id": "HmyhUcJvr9Ii"
      },
      "execution_count": null,
      "outputs": []
    },
    {
      "cell_type": "code",
      "source": [
        "with open ('/content/drive/MyDrive/IR Project/Saved/unigramIndex.pickle', 'wb') as f:\n",
        "    pickle.dump(invertedIndex, f)  "
      ],
      "metadata": {
        "id": "EZe9rFOWwS1A"
      },
      "execution_count": null,
      "outputs": []
    },
    {
      "cell_type": "markdown",
      "source": [
        "# Merging with images links"
      ],
      "metadata": {
        "id": "NZ3JA3snnFE-"
      }
    },
    {
      "cell_type": "code",
      "source": [
        "import os\n",
        "import ast\n",
        "import pickle\n",
        "import pandas as pd"
      ],
      "metadata": {
        "id": "N-3wATmBnLgu"
      },
      "execution_count": 23,
      "outputs": []
    },
    {
      "cell_type": "code",
      "source": [
        "from google.colab import drive\n",
        "drive.mount('/content/drive')"
      ],
      "metadata": {
        "colab": {
          "base_uri": "https://localhost:8080/"
        },
        "id": "Xv4duMSbwT1F",
        "outputId": "dd570952-616f-4838-b6e9-7a58365fcb43"
      },
      "execution_count": 14,
      "outputs": [
        {
          "output_type": "stream",
          "name": "stdout",
          "text": [
            "Drive already mounted at /content/drive; to attempt to forcibly remount, call drive.mount(\"/content/drive\", force_remount=True).\n"
          ]
        }
      ]
    },
    {
      "cell_type": "code",
      "source": [
        "dataframe = pd.read_csv('/content/drive/MyDrive/IR Project/Saved/dataframes/newDf.csv')\n",
        "images = pd.read_csv('/content/drive/MyDrive/IR Project/Saved/dataframes/final_final_images_dataset.csv')"
      ],
      "metadata": {
        "id": "pcb9-sW1nTX7"
      },
      "execution_count": 15,
      "outputs": []
    },
    {
      "cell_type": "code",
      "source": [
        "finaldf = pd.merge(dataframe, images, on = 'Link', how = 'inner')\n",
        "finaldf.shape"
      ],
      "metadata": {
        "colab": {
          "base_uri": "https://localhost:8080/"
        },
        "id": "LDxLH_w-nj1I",
        "outputId": "d4bb6f35-65da-4f6b-d82d-e8317f8d65a2"
      },
      "execution_count": 17,
      "outputs": [
        {
          "output_type": "execute_result",
          "data": {
            "text/plain": [
              "(54853, 11)"
            ]
          },
          "metadata": {},
          "execution_count": 17
        }
      ]
    },
    {
      "cell_type": "code",
      "source": [
        "finaldf = finaldf.drop(columns = ['Link'])"
      ],
      "metadata": {
        "id": "6rVvwcVaCtGT"
      },
      "execution_count": 18,
      "outputs": []
    },
    {
      "cell_type": "code",
      "source": [
        "finaldf = finaldf.reset_index(drop = True)"
      ],
      "metadata": {
        "id": "6hxv2Rx5pJTG"
      },
      "execution_count": 19,
      "outputs": []
    },
    {
      "cell_type": "code",
      "source": [
        "finaldf"
      ],
      "metadata": {
        "colab": {
          "base_uri": "https://localhost:8080/",
          "height": 1000
        },
        "id": "9n1fliGGpNga",
        "outputId": "ab979937-85ae-472c-b5b5-55f5043c510e"
      },
      "execution_count": 20,
      "outputs": [
        {
          "output_type": "execute_result",
          "data": {
            "text/plain": [
              "                                           Name        Level:       Total:  \\\n",
              "0                            Everything Lo Mein          Easy       30 min   \n",
              "1                                         Bamya          Easy  1 hr 10 min   \n",
              "2                  Spinach Fettuccine Primavera          Easy       27 min   \n",
              "3                    Yogurt Wet Rub for Chicken          Easy        5 min   \n",
              "4                               Weird Spaghetti          Easy  2 hr 30 min   \n",
              "...                                         ...           ...          ...   \n",
              "54848                      Sigrid's Carrot Cake          Easy  1 hr 40 min   \n",
              "54849        Sunny’s Banana Pudding “Jar-Faits”          Easy  4 hr 20 min   \n",
              "54850                            Veggie Burgers  Intermediate   2 hr 5 min   \n",
              "54851        Bamboo Pipe Steamed Coconut Shrimp          Easy         1 hr   \n",
              "54852  Moules Mariniere with Garlic Herb Butter          Easy       25 min   \n",
              "\n",
              "                      Yield  \\\n",
              "0                4 servings   \n",
              "1           4 to 6 servings   \n",
              "2           4 to 6 servings   \n",
              "3                     1 cup   \n",
              "4                8 servings   \n",
              "...                     ...   \n",
              "54848           12 servings   \n",
              "54849            6 servings   \n",
              "54850            6 servings   \n",
              "54851            4 servings   \n",
              "54852  4 appetizer servings   \n",
              "\n",
              "                                          Nutrition Info  \\\n",
              "0      {'Serving Size': '1 of 14 servings', 'Calories...   \n",
              "1      {'Serving Size': '1 of 8 servings', 'Calories'...   \n",
              "2      {'Serving Size': '1 of 10 servings', 'Calories...   \n",
              "3      {'Serving Size': '1 of 2 servings', 'Calories'...   \n",
              "4      {'Serving Size': '1 of 16 servings', 'Calories...   \n",
              "...                                                  ...   \n",
              "54848  {'Serving Size': '1 of 26 servings', 'Calories...   \n",
              "54849  {'Serving Size': '1 of 6 servings', 'Calories'...   \n",
              "54850  {'Calories': '451 calorie', 'Total Fat': '14.5...   \n",
              "54851  {'Serving Size': '1 of 12 servings', 'Calories...   \n",
              "54852  {'Serving Size': '1 of 12 servings', 'Calories...   \n",
              "\n",
              "                                      ingredients_phrase  \\\n",
              "0      ['3 rounded tablespoons hoisin sauce', '3 tabl...   \n",
              "1      [\"1 pound boneless lamb stew meat, cut into 1-...   \n",
              "2      ['Salt', '1 pound spinach fettuccine', '2 carr...   \n",
              "3      ['1 cup Greek yogurt', '1 teaspoon turmeric', ...   \n",
              "4      ['2 pounds ground beef, (80/20 lean muscle to ...   \n",
              "...                                                  ...   \n",
              "54848  ['2 cups granulated sugar', '1 cup vegetable o...   \n",
              "54849  ['1 cup creamy peanut butter', '2 tablespoons ...   \n",
              "54850  ['1 cup green lentils, picked through and rins...   \n",
              "54851  ['2 pounds medium shrimp in shells', '1 teaspo...   \n",
              "54852  ['2 tablespoons butter', '5 shallots, sliced',...   \n",
              "\n",
              "                                                  Method  \\\n",
              "0      ['Mix together sauce ingredients and reserve.'...   \n",
              "1      ['Mix the lamb with 1 teaspoon seven spice ble...   \n",
              "2      ['Bring water for pasta to a boil. Salt the wa...   \n",
              "3      ['Mix the yogurt, turmeric, paprika, salt, gar...   \n",
              "4      ['In a large saute pan over medium heat, brown...   \n",
              "...                                                  ...   \n",
              "54848  ['For the cake: Preheat the oven to 350 degree...   \n",
              "54849  ['In a large bowl or stand mixer, add the pean...   \n",
              "54850  ['Put the lentils and barley in a saucepan wit...   \n",
              "54851  [\"Soak two 8-inch-long, 4 1/2-inch-wide bamboo...   \n",
              "54852  ['In a large pot melt the butter over medium f...   \n",
              "\n",
              "                                             ingredients     id  \\\n",
              "0      pad thai sauce, spaghetti, ginger snaps, pork ...      0   \n",
              "1      tomato paste, garlic, beet juice, onion, olive...      1   \n",
              "2      green pea soup, garlic, spinach fettuccine, sh...      2   \n",
              "3      garlic powder, greek yogurt, beet juice, turme...      3   \n",
              "4      clove, gin, cumin, nutmeg, apple cider vinegar...      4   \n",
              "...                                                  ...    ...   \n",
              "54848  baking soda, vanilla, pecan, cream cheese, bak...  54848   \n",
              "54849  vanilla pudding, banana, peanut butter, wafer,...  54849   \n",
              "54850  ginger snaps, garlic, bread crumbs, goat chees...  54850   \n",
              "54851  ginger snaps, coconut milk, lemongrass, soy sa...  54851   \n",
              "54852  mussel, fennel, parsley, garlic, butter, lemon...  54852   \n",
              "\n",
              "                                              Image Link  \n",
              "0      https://food.fnr.sndimg.com/content/dam/images...  \n",
              "1      https://food.fnr.sndimg.com/content/dam/images...  \n",
              "2      https://food.fnr.sndimg.com/content/dam/images...  \n",
              "3      https://food.fnr.sndimg.com/content/dam/images...  \n",
              "4      https://food.fnr.sndimg.com/content/dam/images...  \n",
              "...                                                  ...  \n",
              "54848  https://food.fnr.sndimg.com/content/dam/images...  \n",
              "54849  https://food.fnr.sndimg.com/content/dam/images...  \n",
              "54850  https://food.fnr.sndimg.com/content/dam/images...  \n",
              "54851  https://food.fnr.sndimg.com/content/dam/images...  \n",
              "54852  https://food.fnr.sndimg.com/content/dam/images...  \n",
              "\n",
              "[54853 rows x 10 columns]"
            ],
            "text/html": [
              "\n",
              "  <div id=\"df-56fefe7e-2af4-4407-8c6d-14c58838258b\">\n",
              "    <div class=\"colab-df-container\">\n",
              "      <div>\n",
              "<style scoped>\n",
              "    .dataframe tbody tr th:only-of-type {\n",
              "        vertical-align: middle;\n",
              "    }\n",
              "\n",
              "    .dataframe tbody tr th {\n",
              "        vertical-align: top;\n",
              "    }\n",
              "\n",
              "    .dataframe thead th {\n",
              "        text-align: right;\n",
              "    }\n",
              "</style>\n",
              "<table border=\"1\" class=\"dataframe\">\n",
              "  <thead>\n",
              "    <tr style=\"text-align: right;\">\n",
              "      <th></th>\n",
              "      <th>Name</th>\n",
              "      <th>Level:</th>\n",
              "      <th>Total:</th>\n",
              "      <th>Yield</th>\n",
              "      <th>Nutrition Info</th>\n",
              "      <th>ingredients_phrase</th>\n",
              "      <th>Method</th>\n",
              "      <th>ingredients</th>\n",
              "      <th>id</th>\n",
              "      <th>Image Link</th>\n",
              "    </tr>\n",
              "  </thead>\n",
              "  <tbody>\n",
              "    <tr>\n",
              "      <th>0</th>\n",
              "      <td>Everything Lo Mein</td>\n",
              "      <td>Easy</td>\n",
              "      <td>30 min</td>\n",
              "      <td>4 servings</td>\n",
              "      <td>{'Serving Size': '1 of 14 servings', 'Calories...</td>\n",
              "      <td>['3 rounded tablespoons hoisin sauce', '3 tabl...</td>\n",
              "      <td>['Mix together sauce ingredients and reserve.'...</td>\n",
              "      <td>pad thai sauce, spaghetti, ginger snaps, pork ...</td>\n",
              "      <td>0</td>\n",
              "      <td>https://food.fnr.sndimg.com/content/dam/images...</td>\n",
              "    </tr>\n",
              "    <tr>\n",
              "      <th>1</th>\n",
              "      <td>Bamya</td>\n",
              "      <td>Easy</td>\n",
              "      <td>1 hr 10 min</td>\n",
              "      <td>4 to 6 servings</td>\n",
              "      <td>{'Serving Size': '1 of 8 servings', 'Calories'...</td>\n",
              "      <td>[\"1 pound boneless lamb stew meat, cut into 1-...</td>\n",
              "      <td>['Mix the lamb with 1 teaspoon seven spice ble...</td>\n",
              "      <td>tomato paste, garlic, beet juice, onion, olive...</td>\n",
              "      <td>1</td>\n",
              "      <td>https://food.fnr.sndimg.com/content/dam/images...</td>\n",
              "    </tr>\n",
              "    <tr>\n",
              "      <th>2</th>\n",
              "      <td>Spinach Fettuccine Primavera</td>\n",
              "      <td>Easy</td>\n",
              "      <td>27 min</td>\n",
              "      <td>4 to 6 servings</td>\n",
              "      <td>{'Serving Size': '1 of 10 servings', 'Calories...</td>\n",
              "      <td>['Salt', '1 pound spinach fettuccine', '2 carr...</td>\n",
              "      <td>['Bring water for pasta to a boil. Salt the wa...</td>\n",
              "      <td>green pea soup, garlic, spinach fettuccine, sh...</td>\n",
              "      <td>2</td>\n",
              "      <td>https://food.fnr.sndimg.com/content/dam/images...</td>\n",
              "    </tr>\n",
              "    <tr>\n",
              "      <th>3</th>\n",
              "      <td>Yogurt Wet Rub for Chicken</td>\n",
              "      <td>Easy</td>\n",
              "      <td>5 min</td>\n",
              "      <td>1 cup</td>\n",
              "      <td>{'Serving Size': '1 of 2 servings', 'Calories'...</td>\n",
              "      <td>['1 cup Greek yogurt', '1 teaspoon turmeric', ...</td>\n",
              "      <td>['Mix the yogurt, turmeric, paprika, salt, gar...</td>\n",
              "      <td>garlic powder, greek yogurt, beet juice, turme...</td>\n",
              "      <td>3</td>\n",
              "      <td>https://food.fnr.sndimg.com/content/dam/images...</td>\n",
              "    </tr>\n",
              "    <tr>\n",
              "      <th>4</th>\n",
              "      <td>Weird Spaghetti</td>\n",
              "      <td>Easy</td>\n",
              "      <td>2 hr 30 min</td>\n",
              "      <td>8 servings</td>\n",
              "      <td>{'Serving Size': '1 of 16 servings', 'Calories...</td>\n",
              "      <td>['2 pounds ground beef, (80/20 lean muscle to ...</td>\n",
              "      <td>['In a large saute pan over medium heat, brown...</td>\n",
              "      <td>clove, gin, cumin, nutmeg, apple cider vinegar...</td>\n",
              "      <td>4</td>\n",
              "      <td>https://food.fnr.sndimg.com/content/dam/images...</td>\n",
              "    </tr>\n",
              "    <tr>\n",
              "      <th>...</th>\n",
              "      <td>...</td>\n",
              "      <td>...</td>\n",
              "      <td>...</td>\n",
              "      <td>...</td>\n",
              "      <td>...</td>\n",
              "      <td>...</td>\n",
              "      <td>...</td>\n",
              "      <td>...</td>\n",
              "      <td>...</td>\n",
              "      <td>...</td>\n",
              "    </tr>\n",
              "    <tr>\n",
              "      <th>54848</th>\n",
              "      <td>Sigrid's Carrot Cake</td>\n",
              "      <td>Easy</td>\n",
              "      <td>1 hr 40 min</td>\n",
              "      <td>12 servings</td>\n",
              "      <td>{'Serving Size': '1 of 26 servings', 'Calories...</td>\n",
              "      <td>['2 cups granulated sugar', '1 cup vegetable o...</td>\n",
              "      <td>['For the cake: Preheat the oven to 350 degree...</td>\n",
              "      <td>baking soda, vanilla, pecan, cream cheese, bak...</td>\n",
              "      <td>54848</td>\n",
              "      <td>https://food.fnr.sndimg.com/content/dam/images...</td>\n",
              "    </tr>\n",
              "    <tr>\n",
              "      <th>54849</th>\n",
              "      <td>Sunny’s Banana Pudding “Jar-Faits”</td>\n",
              "      <td>Easy</td>\n",
              "      <td>4 hr 20 min</td>\n",
              "      <td>6 servings</td>\n",
              "      <td>{'Serving Size': '1 of 6 servings', 'Calories'...</td>\n",
              "      <td>['1 cup creamy peanut butter', '2 tablespoons ...</td>\n",
              "      <td>['In a large bowl or stand mixer, add the pean...</td>\n",
              "      <td>vanilla pudding, banana, peanut butter, wafer,...</td>\n",
              "      <td>54849</td>\n",
              "      <td>https://food.fnr.sndimg.com/content/dam/images...</td>\n",
              "    </tr>\n",
              "    <tr>\n",
              "      <th>54850</th>\n",
              "      <td>Veggie Burgers</td>\n",
              "      <td>Intermediate</td>\n",
              "      <td>2 hr 5 min</td>\n",
              "      <td>6 servings</td>\n",
              "      <td>{'Calories': '451 calorie', 'Total Fat': '14.5...</td>\n",
              "      <td>['1 cup green lentils, picked through and rins...</td>\n",
              "      <td>['Put the lentils and barley in a saucepan wit...</td>\n",
              "      <td>ginger snaps, garlic, bread crumbs, goat chees...</td>\n",
              "      <td>54850</td>\n",
              "      <td>https://food.fnr.sndimg.com/content/dam/images...</td>\n",
              "    </tr>\n",
              "    <tr>\n",
              "      <th>54851</th>\n",
              "      <td>Bamboo Pipe Steamed Coconut Shrimp</td>\n",
              "      <td>Easy</td>\n",
              "      <td>1 hr</td>\n",
              "      <td>4 servings</td>\n",
              "      <td>{'Serving Size': '1 of 12 servings', 'Calories...</td>\n",
              "      <td>['2 pounds medium shrimp in shells', '1 teaspo...</td>\n",
              "      <td>[\"Soak two 8-inch-long, 4 1/2-inch-wide bamboo...</td>\n",
              "      <td>ginger snaps, coconut milk, lemongrass, soy sa...</td>\n",
              "      <td>54851</td>\n",
              "      <td>https://food.fnr.sndimg.com/content/dam/images...</td>\n",
              "    </tr>\n",
              "    <tr>\n",
              "      <th>54852</th>\n",
              "      <td>Moules Mariniere with Garlic Herb Butter</td>\n",
              "      <td>Easy</td>\n",
              "      <td>25 min</td>\n",
              "      <td>4 appetizer servings</td>\n",
              "      <td>{'Serving Size': '1 of 12 servings', 'Calories...</td>\n",
              "      <td>['2 tablespoons butter', '5 shallots, sliced',...</td>\n",
              "      <td>['In a large pot melt the butter over medium f...</td>\n",
              "      <td>mussel, fennel, parsley, garlic, butter, lemon...</td>\n",
              "      <td>54852</td>\n",
              "      <td>https://food.fnr.sndimg.com/content/dam/images...</td>\n",
              "    </tr>\n",
              "  </tbody>\n",
              "</table>\n",
              "<p>54853 rows × 10 columns</p>\n",
              "</div>\n",
              "      <button class=\"colab-df-convert\" onclick=\"convertToInteractive('df-56fefe7e-2af4-4407-8c6d-14c58838258b')\"\n",
              "              title=\"Convert this dataframe to an interactive table.\"\n",
              "              style=\"display:none;\">\n",
              "        \n",
              "  <svg xmlns=\"http://www.w3.org/2000/svg\" height=\"24px\"viewBox=\"0 0 24 24\"\n",
              "       width=\"24px\">\n",
              "    <path d=\"M0 0h24v24H0V0z\" fill=\"none\"/>\n",
              "    <path d=\"M18.56 5.44l.94 2.06.94-2.06 2.06-.94-2.06-.94-.94-2.06-.94 2.06-2.06.94zm-11 1L8.5 8.5l.94-2.06 2.06-.94-2.06-.94L8.5 2.5l-.94 2.06-2.06.94zm10 10l.94 2.06.94-2.06 2.06-.94-2.06-.94-.94-2.06-.94 2.06-2.06.94z\"/><path d=\"M17.41 7.96l-1.37-1.37c-.4-.4-.92-.59-1.43-.59-.52 0-1.04.2-1.43.59L10.3 9.45l-7.72 7.72c-.78.78-.78 2.05 0 2.83L4 21.41c.39.39.9.59 1.41.59.51 0 1.02-.2 1.41-.59l7.78-7.78 2.81-2.81c.8-.78.8-2.07 0-2.86zM5.41 20L4 18.59l7.72-7.72 1.47 1.35L5.41 20z\"/>\n",
              "  </svg>\n",
              "      </button>\n",
              "      \n",
              "  <style>\n",
              "    .colab-df-container {\n",
              "      display:flex;\n",
              "      flex-wrap:wrap;\n",
              "      gap: 12px;\n",
              "    }\n",
              "\n",
              "    .colab-df-convert {\n",
              "      background-color: #E8F0FE;\n",
              "      border: none;\n",
              "      border-radius: 50%;\n",
              "      cursor: pointer;\n",
              "      display: none;\n",
              "      fill: #1967D2;\n",
              "      height: 32px;\n",
              "      padding: 0 0 0 0;\n",
              "      width: 32px;\n",
              "    }\n",
              "\n",
              "    .colab-df-convert:hover {\n",
              "      background-color: #E2EBFA;\n",
              "      box-shadow: 0px 1px 2px rgba(60, 64, 67, 0.3), 0px 1px 3px 1px rgba(60, 64, 67, 0.15);\n",
              "      fill: #174EA6;\n",
              "    }\n",
              "\n",
              "    [theme=dark] .colab-df-convert {\n",
              "      background-color: #3B4455;\n",
              "      fill: #D2E3FC;\n",
              "    }\n",
              "\n",
              "    [theme=dark] .colab-df-convert:hover {\n",
              "      background-color: #434B5C;\n",
              "      box-shadow: 0px 1px 3px 1px rgba(0, 0, 0, 0.15);\n",
              "      filter: drop-shadow(0px 1px 2px rgba(0, 0, 0, 0.3));\n",
              "      fill: #FFFFFF;\n",
              "    }\n",
              "  </style>\n",
              "\n",
              "      <script>\n",
              "        const buttonEl =\n",
              "          document.querySelector('#df-56fefe7e-2af4-4407-8c6d-14c58838258b button.colab-df-convert');\n",
              "        buttonEl.style.display =\n",
              "          google.colab.kernel.accessAllowed ? 'block' : 'none';\n",
              "\n",
              "        async function convertToInteractive(key) {\n",
              "          const element = document.querySelector('#df-56fefe7e-2af4-4407-8c6d-14c58838258b');\n",
              "          const dataTable =\n",
              "            await google.colab.kernel.invokeFunction('convertToInteractive',\n",
              "                                                     [key], {});\n",
              "          if (!dataTable) return;\n",
              "\n",
              "          const docLinkHtml = 'Like what you see? Visit the ' +\n",
              "            '<a target=\"_blank\" href=https://colab.research.google.com/notebooks/data_table.ipynb>data table notebook</a>'\n",
              "            + ' to learn more about interactive tables.';\n",
              "          element.innerHTML = '';\n",
              "          dataTable['output_type'] = 'display_data';\n",
              "          await google.colab.output.renderOutput(dataTable, element);\n",
              "          const docLink = document.createElement('div');\n",
              "          docLink.innerHTML = docLinkHtml;\n",
              "          element.appendChild(docLink);\n",
              "        }\n",
              "      </script>\n",
              "    </div>\n",
              "  </div>\n",
              "  "
            ]
          },
          "metadata": {},
          "execution_count": 20
        }
      ]
    },
    {
      "cell_type": "code",
      "source": [
        "(finaldf.index == finaldf['id']).all()"
      ],
      "metadata": {
        "colab": {
          "base_uri": "https://localhost:8080/"
        },
        "id": "jNvfQTtCHtvI",
        "outputId": "7fb40306-645b-458e-d3f8-6ad7582a427c"
      },
      "execution_count": 21,
      "outputs": [
        {
          "output_type": "execute_result",
          "data": {
            "text/plain": [
              "True"
            ]
          },
          "metadata": {},
          "execution_count": 21
        }
      ]
    },
    {
      "cell_type": "code",
      "source": [
        "with open ('/content/drive/MyDrive/IR Project/Saved/dataframes/finaldf.pickle', 'wb') as f:\n",
        "    pickle.dump(finaldf, f)"
      ],
      "metadata": {
        "id": "8og1N1Oe8rPo"
      },
      "execution_count": 24,
      "outputs": []
    },
    {
      "cell_type": "code",
      "source": [
        "finaldf.to_csv('/content/drive/MyDrive/IR Project/Saved/dataframes/finaldf.csv', index = False)"
      ],
      "metadata": {
        "id": "Ajbpwy0B876W"
      },
      "execution_count": 25,
      "outputs": []
    },
    {
      "cell_type": "code",
      "source": [
        "# finaldf doesn't have links. newDf and masterDf have links."
      ],
      "metadata": {
        "id": "7mLV_vG3_sxh"
      },
      "execution_count": null,
      "outputs": []
    }
  ]
}